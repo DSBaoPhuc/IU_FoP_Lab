{
  "nbformat": 4,
  "nbformat_minor": 0,
  "metadata": {
    "colab": {
      "provenance": []
    },
    "kernelspec": {
      "name": "python3",
      "display_name": "Python 3"
    },
    "language_info": {
      "name": "python"
    }
  },
  "cells": [
    {
      "cell_type": "markdown",
      "source": [
        "1. (Car Class with Read-Only Properties) Write a class **Car** that contains the **model**, **year** (of manufacture), and **speed** of a car as **hidden attributes** (name these attributes with a leading underscore). Provide the necessary **read-only properties**. Write two methods to drive the car **faster** and **slower**. Test your Car class."
      ],
      "metadata": {
        "id": "oXtNPBTwDnaA"
      }
    },
    {
      "cell_type": "code",
      "execution_count": null,
      "metadata": {
        "id": "EsIPnHYfDeBV"
      },
      "outputs": [],
      "source": [
        "class Car:\n",
        "    def __init__(self, model, year, ):\n",
        "        self.__model = model\n",
        "        self.__year = year\n",
        "        self.__speed = 0\n",
        "\n",
        "    def Cars(self):\n",
        "        print(\"Model : {}, Year : {}\". format(self.__model, self.__year))\n",
        "\n",
        "    @property\n",
        "    def model(self):\n",
        "        return self.__model\n",
        "    @model.setter\n",
        "    def model(self,model):\n",
        "        self.__model = model\n",
        "\n",
        "    @property\n",
        "    def year(self):\n",
        "        return self.__year\n",
        "    @year.setter\n",
        "    def year(self,year):\n",
        "        self.__year = year\n",
        "\n",
        "    def accelerate(self):\n",
        "        self.__speed +=5\n",
        "    def brake(self):\n",
        "        self.__speed -=5\n",
        "    def Speed(self):\n",
        "        return self.__speed\n",
        "    \n",
        "New_Car = Car('BMW','1980')\n",
        "\n",
        "print(\"Faster: \")\n",
        "for j in range (5):\n",
        "    New_Car.accelerate()\n",
        "    speed = New_Car.Speed()\n",
        "    print(format(j+1, '4d'),format(speed,'13d'))\n",
        "\n",
        "print(\"Slower: \")\n",
        "for i in range (5):\n",
        "    New_Car.brake()\n",
        "    speed = New_Car.Speed()\n",
        "    print(format(i+1, '4d'),format(speed,'13d'))"
      ]
    },
    {
      "cell_type": "code",
      "source": [
        "print(New_Car.model)\n",
        "print(New_Car.year)"
      ],
      "metadata": {
        "id": "saTr6yhyuXwC"
      },
      "execution_count": null,
      "outputs": []
    },
    {
      "cell_type": "markdown",
      "source": [
        "2. (Coin Class) Write a Coin Class to keep track of the number of 2 euro, 1 euro, 50 euro cent, 20 euro cent, and 10 euro cent coins in a wallet. Provide a **read-only property universal_str** that returns a string with the number of coins for each coin type. Write a second method that returns the total amount of money. Keep your **attributes hidden** and use the read-only properties. Create a coin object and test the methods."
      ],
      "metadata": {
        "id": "rDiyqANuDoO4"
      }
    },
    {
      "cell_type": "code",
      "source": [
        "class Coin:\n",
        "    def __init__(self, two_euro = float, one_euro = float, fifty_euro_cent = float, twenty_euro_cent = float, ten_euro_cent = float):\n",
        "        self.__two_euro = two_euro\n",
        "        self.__one_euro = one_euro\n",
        "        self.__fifty_euro_cent = fifty_euro_cent\n",
        "        self.__twenty_euro_cent = twenty_euro_cent\n",
        "        self.__ten_euro_cent = ten_euro_cent     \n",
        "\n",
        "    def total_amount(self):\n",
        "        return 2*self.__two_euro+ self.__one_euro + 0.5*self.__fifty_euro_cent + 0.2*self.__twenty_euro_cent + 0.1*self.__ten_euro_cent  \n",
        "\n",
        "    def __str__(self):\n",
        "        return \"2 euro: {}, 1 euro: {}, 50 euro cent: {}, 20 euro cent: {}, 10 euro cent: {}\".format(self.__two_euro,self.__one_euro,self.__fifty_euro_cent,self.__twenty_euro_cent,self.__ten_euro_cent)\n",
        "\n",
        "Two_Euro = int(input(\"2 Euro: \"))\n",
        "One_Euro = int(input(\"1 Euro: \"))\n",
        "Fifty_Euro_Cent = int(input(\"50 Euro Cent: \"))\n",
        "Twenty_Euro_Cent = int(input(\"20 Euro Cent: \"))\n",
        "Ten_Euro_Cent = int(input(\"10 Euro Cent: \"))\n",
        "\n",
        "cash = Coin(Two_Euro, One_Euro, Fifty_Euro_Cent, Twenty_Euro_Cent, Ten_Euro_Cent)\n",
        "\n",
        "print(cash.total_amount(), \"euro\")"
      ],
      "metadata": {
        "id": "C-HxR6kmDo4y"
      },
      "execution_count": null,
      "outputs": []
    },
    {
      "cell_type": "markdown",
      "source": [
        "3. (Modifying the Internal Data Representation of a Class) Section 10.4.2’s Time class represents the time as three integer values. Modify the class to **store the time as the total number of seconds since midnight**. Replace the _hour, _minute and _second attributes with one **_total_seconds** attribute. Modify the bodies of the hour, minute and second properties’ methods to get and set _total_seconds. Re-execute Section 10.4’s IPython session using the modified Time class to show that the updated class Time is interchangeable with the original one."
      ],
      "metadata": {
        "id": "Fxmg19JKD3j3"
      }
    },
    {
      "cell_type": "code",
      "source": [
        "class Time:\n",
        "    def __init__(self,hour,minute,second):\n",
        "        self.__hour = hour\n",
        "        self.__minute = minute\n",
        "        self.__second = second\n",
        "    def total_second(self):\n",
        "        return 3600*self.__hour + 60*self.__minute + self.__second\n",
        "    def __str__(self):\n",
        "        return f\"{self.__hour} hour {self.__minute} minutes {self.__second} second\"\n",
        "\n",
        "Hour = int(input(\"Enter hour: \"))\n",
        "Minute = int(input(\"Enter minute: \"))\n",
        "Second = int(input(\"Enter second: \"))\n",
        "time = Time(Hour, Minute, Second)\n",
        "print(f\"{time} = {time.total_second()} seconds\")"
      ],
      "metadata": {
        "id": "tyxyC8FuD7z7"
      },
      "execution_count": null,
      "outputs": []
    },
    {
      "cell_type": "markdown",
      "source": [
        "4. (Calculating Vector Lengths) A vector is an object that has a magnitude and a direction. A vector is represented as a line segment with an arrow where the arrow represents the direction and the length of the vector is the magnitude. A vector can also be a single point with x- and y-coordinates. The magnitude calculated from this type of vector equals the distance between the origin of the cartesian coordinate system and the point. Write a class Point that represents an (x-y) coordinate pair and provides x and y **read-write properties** as well as a method to calculate the distance between the point and the origin of the coordinate system. Include __init__ and __repr__ methods. Write a class Vector that has two Point objects as its attributes. Include __init__ and __repr__ methods and a method that can calculate the magnitude of the vector. Test your Point and your Vector class."
      ],
      "metadata": {
        "id": "BQok7RHTD88W"
      }
    },
    {
      "cell_type": "code",
      "source": [
        "from math import sqrt\n",
        "class Vector:\n",
        "    def __init__(self,x,y):\n",
        "        self.__x = x\n",
        "        self.__y = y\n",
        "    def find_magnitude(self):\n",
        "        return sqrt(self.__x**2+self.__y**2)\n",
        "    def __repr__(self):\n",
        "        rep = 'Vetor(' + str(self.__x) + ',' + str(self.__y) + ')'\n",
        "        return rep \n",
        "\n",
        "x = int(input(\"Enter number: \"))\n",
        "y = int(input(\"Enter number: \"))\n",
        "vetor = Vector(x,y)\n",
        "print(repr(vetor))\n",
        "print(f\"The magnitude of the vector is {vetor.find_magnitude()}\")"
      ],
      "metadata": {
        "id": "-2ah6bCeEBvA",
        "colab": {
          "base_uri": "https://localhost:8080/"
        },
        "outputId": "07eb9bbd-0934-4c32-fb33-8346106e6c56"
      },
      "execution_count": 18,
      "outputs": [
        {
          "output_type": "stream",
          "name": "stdout",
          "text": [
            "Enter number: 3\n",
            "Enter number: 4\n",
            "Vetor(3,4)\n",
            "The magnitude of the vector is 5.0\n"
          ]
        }
      ]
    },
    {
      "cell_type": "markdown",
      "source": [
        "5. (Manipulating Dates and Times with Module datetime) The Python Standard Library’s **datetime** module contains a datetime class for manipulating dates and times. The class provides various **overloaded operators**. Research class datetime’s capabilities, then perform the following tasks:\n",
        "\n",
        ">>a) Get the current date and time and store it in variables.\n",
        "\n",
        ">>b) Repeat Part (a) and store the result in variable y.\n",
        "\n",
        ">>c) Display Each Datetime Object.\n",
        "\n",
        ">>d) Display each datetime object’s data attributes individually.\n",
        "\n",
        ">>e) Use the comparison operators to compare the two datetime objects.\n",
        "\n",
        ">>f) Calculate the difference between y and x."
      ],
      "metadata": {
        "id": "pIaOu06UECNk"
      }
    },
    {
      "cell_type": "code",
      "source": [
        "import datetime\n",
        "#a\n",
        "x = datetime.datetime.now()\n",
        "#b\n",
        "y = datetime.datetime.now()\n",
        "#c\n",
        "print(f\"x = {x}\")\n",
        "print(f\"y = {y}\")\n",
        "#d\n",
        "print(f\"x => year = {x.year}, month = {x.month}, day = {x.day}, hour = {x.hour}, minus = {x.minute}, second = {x.second}\")\n",
        "print(f\"y => year = {y.year}, month = {y.month}, day = {y.day}, hour = {y.hour}, minus = {y.minute}, second = {y.second}\")\n",
        "#e\n",
        "if x > y:\n",
        "    print(\"x greater than y\")\n",
        "elif x < y:\n",
        "    print(\"y greater than x\")\n",
        "else:\n",
        "    print(\"x equal y\")\n",
        "#f\n",
        "print(f\"The difference between y and x is : {y-x}\")"
      ],
      "metadata": {
        "id": "gvlUvDYhESdP"
      },
      "execution_count": null,
      "outputs": []
    },
    {
      "cell_type": "markdown",
      "source": [
        "6. (Calculator Class) Write a class that implements a Calculator. The class should contain 2 numbers. Provide an __init__ method that takes the 2 numbers as arguments. Also, provide the following read-only properties:\n",
        "\n",
        ">>a) **sum** returns the sum of the 2 numbers\n",
        "\n",
        ">>b) **difference** returns the difference between the 2 numbers\n",
        "\n",
        ">>c) **product** returns the product between the 2 numbers\n",
        "\n",
        ">>d) **division** returns the quotient of number1 divided by number2\n",
        "\n",
        ">These properties should not have corresponding data attributes; rather, they should use side in calculations that return the desired values. Create a Calculator object and dis- play its properties."
      ],
      "metadata": {
        "id": "e3POe1jHETWp"
      }
    },
    {
      "cell_type": "code",
      "source": [
        "class Calculator:\n",
        "    def __init__(self,num1:float,num2:float):\n",
        "        self.__num1 = num1\n",
        "        self.__num2 = num2\n",
        "    def sum(self):\n",
        "        return self.__num1 + self.__num2\n",
        "    def difference(self):\n",
        "        return self.__num1 - self.__num2\n",
        "    def product(self):\n",
        "        return self.__num1 * self.__num2\n",
        "    def division(self):\n",
        "        return self.__num1 / self.__num2\n",
        "    def __str__(self):\n",
        "        return f\"The first number is: {self.__num1} \\n The second number is: {self.__num2}\"\n",
        "\n",
        "Num1 = int(input(\"Enter number: \"))\n",
        "Num2 = int(input(\"Enter number: \"))\n",
        "nums = Calculator(Num1,Num2)\n",
        "print(nums)\n",
        "\n",
        "print(f\"The sum of 2 numbers is: {nums.sum()}\")\n",
        "print(f\"The difference of 2 numbers is: {nums.difference()}\")\n",
        "print(f\"The product of 2 numbers is: {nums.product()}\")\n",
        "print(f\"The division of 2 numbers is: {nums.division()}\")"
      ],
      "metadata": {
        "id": "fDsJEUTsEZ9b",
        "colab": {
          "base_uri": "https://localhost:8080/"
        },
        "outputId": "cebf8f27-d996-40e6-e34f-8b36c48427b9"
      },
      "execution_count": 15,
      "outputs": [
        {
          "output_type": "stream",
          "name": "stdout",
          "text": [
            "Enter number: 4\n",
            "Enter number: 5\n",
            "The first number is: 4 \n",
            " The second number is: 5\n",
            "The sum of 2 numbers is: 9\n",
            "The difference of 2 numbers is: -1\n",
            "The product of 2 numbers is: 20\n",
            "The division of 2 numbers is: 0.8\n"
          ]
        }
      ]
    },
    {
      "cell_type": "markdown",
      "source": [
        "7. (Player Class) Write a class called Player that can be used in a turn-based strategy game to create player objects. Create the following data attributes-the **name** (a string), **level** (an int), **strength** (an int), and **Health Points** (a Decimal). The class should have an __init__ method to initialize the data attributes. Provide a property for each data attri- bute. Use validation in the properties of the level and health attribute to ensure that they remain non-negative. Provide a **defence** method to defend from an attack. The intensity of the attack is calculated as follows—divide the strength of the attacker by a random num- ber between 1 and 3, subtract from this result the strength of our player multiplied with the level of our player. If the intensity is ≤ 0, the player loses, and the intensity is subtracted from the health points of the player."
      ],
      "metadata": {
        "id": "xiNxCJlnEaee"
      }
    },
    {
      "cell_type": "code",
      "source": [],
      "metadata": {
        "id": "Q3LbDn7yEa5I"
      },
      "execution_count": null,
      "outputs": []
    },
    {
      "cell_type": "markdown",
      "source": [
        "8. (Class Fraction) The Python Standard Library module fractions provides a Fraction class that stores the numerator and denominator of a fraction, such as:\n",
        "\n",
        ">>2 / 4\n",
        "\n",
        ">Research Fraction’s capabilities, then demonstrate:\n",
        "\n",
        ">>a) AddingtwoFractions.\n",
        "\n",
        ">>b) Subtracting two Fractions.\n",
        "\n",
        ">>c) MultiplyingtwoFractions.\n",
        "\n",
        ">>d) Dividing two Fractions.\n",
        "\n",
        ">>e) Printing Fractions in the form a/b, where a is the numerator and b is the denominator.\n",
        "\n",
        ">>f) Converting Fractions to floating-point numbers with built-in function float."
      ],
      "metadata": {
        "id": "LS6O7ATREbo3"
      }
    },
    {
      "cell_type": "code",
      "source": [
        "from fractions import Fraction\n",
        "\n",
        "Num1 = int(input(\"Enter Number: \"))\n",
        "Num2 = int(input(\"Enter Number: \"))\n",
        "Num3 = int(input(\"Enter Number: \"))\n",
        "Num4 = int(input(\"Enter Number: \"))\n",
        "#a\n",
        "print(Fraction(Num1, Num2) + Fraction(Num3, Num4))\n",
        "#b\n",
        "print(Fraction(Num1, Num2) - Fraction(Num3, Num4))\n",
        "#c\n",
        "print(Fraction(Num1, Num2) * Fraction(Num3, Num4))\n",
        "#d\n",
        "print(Fraction(Num1, Num2) / Fraction(Num3, Num4))\n",
        "#e\n",
        "print (Fraction('3.141292654').limit_denominator(100))\n",
        "#f\n",
        "print(float(Fraction(Num1, Num2)))"
      ],
      "metadata": {
        "id": "FXJfFs0NEb-9"
      },
      "execution_count": null,
      "outputs": []
    }
  ]
}