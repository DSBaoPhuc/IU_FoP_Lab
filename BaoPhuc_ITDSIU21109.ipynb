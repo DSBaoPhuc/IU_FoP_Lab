{
  "cells": [
    {
      "cell_type": "markdown",
      "metadata": {
        "id": "vdcP0W-TB-b4"
      },
      "source": [
        "#1: (Flu Patients Data Processing) During the flu season, it is important to keep track of the number of infected patients. Write a script in which the user can input the number of reported infections per day over one week. Calculate the total, average, smallest, and largest of these values. Write your script using a loop structure."
      ]
    },
    {
      "cell_type": "code",
      "execution_count": null,
      "metadata": {
        "id": "wN4j_su0B76y"
      },
      "outputs": [],
      "source": [
        "list = []\n",
        "sum = 0\n",
        "ave = 0\n",
        "\n",
        "for i in range (7):\n",
        "    i = int(input(\"Enter the number: \"))\n",
        "    list.append(i)\n",
        "for j in list:\n",
        "    sum+= j\n",
        "    ave = sum/7\n",
        "print(\"The total: \", sum)\n",
        "print(\"The average: \", ave)\n",
        "\n",
        "max = list[0]\n",
        "for k in list:\n",
        "    if k > max:\n",
        "        max = k\n",
        "print(\"The larget: \", max)\n",
        "\n",
        "min = list[0]\n",
        "for l in list:\n",
        "    if l < min:\n",
        "        min = l\n",
        "print(\"The smallest: \", min)\n"
      ]
    },
    {
      "cell_type": "markdown",
      "metadata": {
        "id": "8iinp_mtB9J0"
      },
      "source": [
        "#4: (Triangles) In an equilateral triangle, the lengths of all three sides are equal. Consequently, it is also equiangular with all three internal angles congruent to each other and measuring 60°. Write a script where a user can input the length of the three sides of a triangle. The script should determine if it is an equilateral triangle or not.\n"
      ]
    },
    {
      "cell_type": "code",
      "execution_count": null,
      "metadata": {
        "colab": {
          "base_uri": "https://localhost:8080/"
        },
        "id": "K-_O3D9QDhWH",
        "outputId": "03fd92b2-31fa-4fed-d2e1-8483e294e61a"
      },
      "outputs": [
        {
          "name": "stdout",
          "output_type": "stream",
          "text": [
            "Enter the length of all 3 sides: 18\n",
            "Enter the angle: 60\n",
            "It's an equilateral triangle\n"
          ]
        }
      ],
      "source": [
        "n = int(input(\"Enter the length of all 3 sides: \"))\n",
        "a = int(input(\"Enter the angle: \"))\n",
        "if n % 3 == 0:\n",
        "  if a == 60:\n",
        "      print(\"It's an equilateral triangle\")\n",
        "else :\n",
        "      print(\"It's not an equilateral triangle\")"
      ]
    },
    {
      "cell_type": "markdown",
      "metadata": {
        "id": "FqU-PqvADlJ8"
      },
      "source": [
        "#5: (Perfect Numbers) In number theory, a perfect number is a positive integer that is equal to the sum of its divisors. Perfect numbers were first studied by the Pythagoreans who thought that they had mystical properties. They were also extensively studied by Greeks (including Euclid) for their numerological properties.The smallest perfect number is 6, because 6 = 3 + 2 + 1, with 3, 2, and 1 being the divi- sors. Other examples of perfect numbers are: 28, 496 and 8128. Write a script that inputs a nonnegative integer and displays whether it is a perfect number or not."
      ]
    },
    {
      "cell_type": "code",
      "execution_count": null,
      "metadata": {
        "colab": {
          "base_uri": "https://localhost:8080/"
        },
        "id": "NEy-Q4bCDvxQ",
        "outputId": "e3585af0-db8b-41a6-fa4c-4e77f9843756"
      },
      "outputs": [
        {
          "name": "stdout",
          "output_type": "stream",
          "text": [
            "Enter the number: 28\n",
            "28 is Perfect number\n"
          ]
        }
      ],
      "source": [
        "n = int(input(\"Enter the number: \"))\n",
        "sum = 0\n",
        "for i in range (1,n):\n",
        "    if n % i == 0:\n",
        "        sum += i\n",
        "if sum == n:\n",
        "    print (n,\"is Perfect number\")\n",
        "else :\n",
        "    print (n, \"is not Perfect number\")"
      ]
    },
    {
      "cell_type": "markdown",
      "metadata": {
        "id": "CTK2YMpZD36k"
      },
      "source": [
        "#6: (Challenge: Approximating the Mathematical Constant ) Write a script that com- putes the value of π from the following infinite series. Print a table that shows the value of π approximated by one term of this series, by two terms, by three terms, and so on. How many terms of this series do you have to use before you first get 3.14? 3.141? 3.1415? 3.14159?"
      ]
    },
    {
      "cell_type": "code",
      "execution_count": null,
      "metadata": {
        "id": "0ZdvkS93D_aq"
      },
      "outputs": [],
      "source": []
    },
    {
      "cell_type": "markdown",
      "metadata": {
        "id": "t_u3QsMwEACF"
      },
      "source": [
        "#7: (Challenge: Fibonacci Sequence) In the Fibonacci sequence, each number is the sum of the two preceding ones. The first 10 Fibonacci numbers are as follows: 0, 1, 1, 2, 3, 5, 8, 13, 21, 34, …\n",
        "Write a script where a user inputs a position (a number) and the number in that \n",
        "position in the Fibonacci Sequence is displayed."
      ]
    },
    {
      "cell_type": "code",
      "execution_count": null,
      "metadata": {
        "colab": {
          "base_uri": "https://localhost:8080/"
        },
        "id": "xg6a5Ox-ElFn",
        "outputId": "afb574a4-c3ef-4d7e-bda2-60c9e88cf4d9"
      },
      "outputs": [
        {
          "name": "stdout",
          "output_type": "stream",
          "text": [
            "Enter number: 6\n",
            "The number of fibonacci:  8\n"
          ]
        }
      ],
      "source": [
        "def fibonacci(n):\n",
        "    a = 0\n",
        "    b = 1\n",
        "    if n < 0:\n",
        "        print(\"Incorrect input\")\n",
        "    elif n == 0:\n",
        "        return a\n",
        "    elif n == 1:\n",
        "        return b\n",
        "    else:\n",
        "        for i in range(2,n+1):\n",
        "            c = a + b\n",
        "            a = b\n",
        "            b = c\n",
        "        return b\n",
        "\n",
        "n = int(input(\"Enter number: \"))\n",
        "print(\"The number of fibonacci: \",fibonacci(n))"
      ]
    },
    {
      "cell_type": "markdown",
      "metadata": {
        "id": "I6pxUMv4F5W0"
      },
      "source": [
        "#8: Write a script that displays the following triangle patterns separately, one below the other. Separate each pattern from the next by one blank line. Use for loops to generate the patterns. Display all asterisks (*) with a single statement of the form \n",
        "                        print('*', end='') \n",
        "which causes the asterisks to display side by side. [Hint: For the last two patterns, begin each line with zero or more space characters.]\n"
      ]
    },
    {
      "cell_type": "code",
      "execution_count": null,
      "metadata": {
        "id": "QiNQZLWSGCKT"
      },
      "outputs": [],
      "source": [
        "n = 0\n",
        "\n",
        "print (\"(a)\")\n",
        "for x in range (0,11):\n",
        "    n = n + 1\n",
        "    for a in range (0, n-1):\n",
        "        print ('*', end = '')\n",
        "    print()\n",
        "print ('')\n",
        "print (\"(b)\")\n",
        "for b in range (0,11):\n",
        "    n = n - 1\n",
        "    for d in range (0, n):\n",
        "        print ('*', end = '')\n",
        "    print()\n",
        "print ('')\n",
        "print (\"(c)\")\n",
        "for e in range (11,0,-1):\n",
        "    n = n + 1\n",
        "    for f in range (0, n - 1):\n",
        "        print ('*', end = '')\n",
        "    print()\n",
        "print ('')\n",
        "print (\"(d)\")\n",
        "for g in range (11,0,-1):\n",
        "    n = n - 1\n",
        "    for h in range (0, n):\n",
        "        print ('*', end = '')\n",
        "    print()"
      ]
    },
    {
      "cell_type": "markdown",
      "metadata": {
        "id": "yg_KhfzWGhZ3"
      },
      "source": [
        "9: (Challenge: Nested Looping) Modify your script from Task 8 to display all four patterns side-by-side (as shown above) by making clever use of nested for loops. Sep- arate each triangle from the next by three horizontal spaces. [Hint: One for loop should control the row number. Its nested for loops should calculate from the row number the appropriate number of asterisks and spaces for each of the four patterns.]\n"
      ]
    },
    {
      "cell_type": "code",
      "execution_count": null,
      "metadata": {
        "colab": {
          "base_uri": "https://localhost:8080/"
        },
        "id": "lmX0cOjvGh0g",
        "outputId": "ade36700-9316-4b6c-d070-1d2ece27c0e2"
      },
      "outputs": [
        {
          "name": "stdout",
          "output_type": "stream",
          "text": [
            "*         **********  **********         *\n",
            "**        *********    *********        **\n",
            "***       ********      ********       ***\n",
            "****      *******        *******      ****\n",
            "*****     ******          ******     *****\n",
            "******    *****            *****    ******\n",
            "*******   ****              ****   *******\n",
            "********  ***                ***  ********\n",
            "********* **                  ** *********\n",
            "***********                    ***********\n"
          ]
        }
      ],
      "source": [
        "for i in range (1,11):\n",
        "  for j in range (0,i):\n",
        "    print(\"*\", end=\"\" )\n",
        "  for j in range (0,11-i+2):\n",
        "    print(\" \", end=\"\")\n",
        "  for j in range (0,11-i):  \n",
        "    print(\"*\", end=\"\")\n",
        "  for j in range (1,2*i+2):\n",
        "    print(\" \", end=\"\")\n",
        "  for j in range (0,11-i):\n",
        "    print(\"*\", end=\"\")\n",
        "  for j in range (0,11-i+2):\n",
        "    print(\" \", end=\"\")\n",
        "  for j in range (0,i):\n",
        "    print(\"*\", end=\"\")\n",
        "  print()\n"
      ]
    },
    {
      "cell_type": "markdown",
      "metadata": {
        "id": "FAjB_2iMGiGJ"
      },
      "source": [
        "10: (Binary-to-Decimal Conversion) Input an integer containing 0s and 1s (i.e., a “binary” integer) and display its decimal equivalent. [Hint: Use the modulus and division operators to pick off the “binary” number’s digits one at a time from right to left. Just as in the decimal number system, where the rightmost digit has the positional value 1 and the next digit to the left has the positional value 10, then 100, then 1000, etc., in the binary number system, \n",
        "the rightmost digit has the positional value 1, the next digit to the left has the positional value 2, then 4, then 8, etc. Thus, the decimal number 234 can be interpreted as 2 * 100 + 3 * 10 + 4 * 1. The decimal equivalent of binary 1101 is 1 * 8 + 1 * 4 + 0 * 2 + 1 * 1.]\n"
      ]
    },
    {
      "cell_type": "code",
      "execution_count": null,
      "metadata": {
        "colab": {
          "base_uri": "https://localhost:8080/"
        },
        "id": "-fH5JADAGicI",
        "outputId": "d317528e-b491-4454-9108-c047dcc962f4"
      },
      "outputs": [
        {
          "name": "stdout",
          "output_type": "stream",
          "text": [
            "enter a number: 1101\n",
            "13\n"
          ]
        }
      ],
      "source": [
        "binary = input('enter a number: ')\n",
        "decimal = 0\n",
        "for digit in binary:\n",
        "    decimal = decimal*2 + int(digit)\n",
        "print (decimal)"
      ]
    },
    {
      "cell_type": "markdown",
      "metadata": {
        "id": "gdOgf-LOHa3w"
      },
      "source": [
        "11: (Fastest Runners) Use a loop to find the fastest and second fastest from 10 runners whose \n",
        "speeds are entered. The speed of each runner is entered by the user in m/sec"
      ]
    },
    {
      "cell_type": "code",
      "execution_count": null,
      "metadata": {
        "id": "rKT367XcHe1H"
      },
      "outputs": [],
      "source": [
        "list = []\n",
        "for i in range (10):\n",
        "  i = int(input())\n",
        "  list.append(i)\n",
        "  list.sort()\n",
        "print(\"The fastest is: \", list[0])\n",
        "print(\"The second fastest is: \", list[1])\n"
      ]
    },
    {
      "cell_type": "markdown",
      "metadata": {
        "id": "18hZBp4YHfOU"
      },
      "source": [
        "12: (Intro to Data Science: Mean, Median and Mode) Calculate the mean, median, and mode of the temperatures measured in Sidney on the first 9 days of February (in °C): 19.5, 19.5, 21.6, 20.2, 19.7, 20.2, 18.6, 17.2 and 19.5. Suppose 20.2°C is measured on day 10 and added to the dataset. What problem might occur?"
      ]
    },
    {
      "cell_type": "code",
      "execution_count": null,
      "metadata": {
        "id": "KDRxRfmWHnN9"
      },
      "outputs": [],
      "source": [
        "list = [19.5, 19.5, 21.6, 20.2, 19.7, 20.2, 18.6, 17.2, 19.5]\n",
        "mean = sum(list)/len(list)\n",
        "print(\"The mean of list is\",mean)\n",
        "\n",
        "median = list[(len(list)//2)]\n",
        "\n",
        "print(\"The median: \", median)\n",
        "dem = 0\n",
        "num = list[0]\n",
        "for i in list:\n",
        "  time = list.count(i)\n",
        "  if( time > dem):\n",
        "      dem = time\n",
        "      num = i\n",
        "print(\"The number most appear is:\",num)\n",
        "\n",
        "#When the temperature on day 10 was add to the dataset, the mean and the median will be change.\n",
        "print(\"\\nAfter change: \")\n",
        "list.append(20.2)\n",
        "list.sort(reverse=True)\n",
        "mean = sum(list)/len(list)  \n",
        "print(\"The mean of list is\",mean)\n",
        "\n",
        "x1 = list[(len(list)//2)-1]\n",
        "x2 = list[(len(list)//2)]\n",
        "median = (x1+x2)/2\n",
        "print(\"The median: \", median)\n",
        "\n",
        "dem1 = 0\n",
        "num = list[0]\n",
        "for j in list:\n",
        "  time = list.count(j)\n",
        "  if( time > dem1):\n",
        "      dem1 = time\n",
        "      num = j\n",
        "print(\"The number most appear is:\",num)\n"
      ]
    }
  ],
  "metadata": {
    "colab": {
      "provenance": []
    },
    "kernelspec": {
      "display_name": "Python 3.10.6 64-bit",
      "language": "python",
      "name": "python3"
    },
    "language_info": {
      "name": "python",
      "version": "3.10.6"
    },
    "vscode": {
      "interpreter": {
        "hash": "369f2c481f4da34e4445cda3fffd2e751bd1c4d706f27375911949ba6bb62e1c"
      }
    }
  },
  "nbformat": 4,
  "nbformat_minor": 0
}
