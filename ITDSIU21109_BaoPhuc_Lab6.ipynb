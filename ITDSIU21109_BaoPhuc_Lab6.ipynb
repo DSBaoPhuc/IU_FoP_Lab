{
  "nbformat": 4,
  "nbformat_minor": 0,
  "metadata": {
    "colab": {
      "provenance": []
    },
    "kernelspec": {
      "name": "python3",
      "display_name": "Python 3"
    },
    "language_info": {
      "name": "python"
    }
  },
  "cells": [
    {
      "cell_type": "markdown",
      "source": [
        "1. (Sorting Words in a Sentence) Write a script that reads a line of text as a string, tokenizes the string, and outputs the tokens in alphabetical order. Use space characters as delimiters."
      ],
      "metadata": {
        "id": "oXtNPBTwDnaA"
      }
    },
    {
      "cell_type": "code",
      "execution_count": null,
      "metadata": {
        "id": "EsIPnHYfDeBV"
      },
      "outputs": [],
      "source": [
        "st = input(\"Enter the sentence: \")\n",
        "\n",
        "st = st.lower()\n",
        "a = st.split()\n",
        "a.sort()\n",
        "\n",
        "print(' '.join(a))"
      ]
    },
    {
      "cell_type": "markdown",
      "source": [
        "2. (Tokenizing and Comparing Strings) Write a script that reads a line of text, tokenizes the line using space characters as delimiters and outputs only those words beginning with the letter 'b'."
      ],
      "metadata": {
        "id": "rDiyqANuDoO4"
      }
    },
    {
      "cell_type": "code",
      "source": [
        "set1 = set()\n",
        "\n",
        "st = input(\"Enter the sentence: \")\n",
        "\n",
        "s = st.split()\n",
        "\n",
        "for i in s:\n",
        "    if i[0] == 'b':\n",
        "        set1.add(i)\n",
        "\n",
        "print(' '.join(set1))\n"
      ],
      "metadata": {
        "id": "C-HxR6kmDo4y"
      },
      "execution_count": null,
      "outputs": []
    },
    {
      "cell_type": "markdown",
      "source": [
        "3. (Tokenizing and Comparing Strings) Write a script that reads a line of text, tokenizes it using space characters as delimiters and outputs only those words ending with the letters 'ed'."
      ],
      "metadata": {
        "id": "Fxmg19JKD3j3"
      }
    },
    {
      "cell_type": "code",
      "source": [
        "set1 = set()\n",
        "\n",
        "st = input(\"Enter the sentence: \")\n",
        "\n",
        "s = st.split()\n",
        "\n",
        "for i in s:\n",
        "    if i[-1] == 'd' and i[-2] == 'e':\n",
        "        set1.add(i)\n",
        "\n",
        "print(' '.join(set1))\n",
        "\n"
      ],
      "metadata": {
        "id": "tyxyC8FuD7z7"
      },
      "execution_count": null,
      "outputs": []
    },
    {
      "cell_type": "markdown",
      "source": [
        "4. (Converting Integers to Characters) Use the c presentation type to display a table of the character codes in the range 0 to 255 and their corresponding characters."
      ],
      "metadata": {
        "id": "BQok7RHTD88W"
      }
    },
    {
      "cell_type": "code",
      "source": [
        "print(f\"{'Number':<10}{'Characters: ':>9}\")\n",
        "for i in range(0,256):\n",
        "    print(i,'\\t',chr(i))"
      ],
      "metadata": {
        "id": "-2ah6bCeEBvA"
      },
      "execution_count": null,
      "outputs": []
    },
    {
      "cell_type": "markdown",
      "source": [
        "5. (Converting Integers to Emojis) Modify the previous exercise to display 10 emojis beginning with the smiley face, which has the value 0x1F600:\n",
        "\n",
        "![image.png](data:image/png;base64,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)\n",
        "\n",
        ">The value 0x1F600 is a hexadecimal (base 16) integer. See the online appendix “Number Systems” for information on the hexadecimal number system. You can find emoji codes by searching online for “Unicode full emoji list.” The Unicode website precedes each character code with \"U+\" (representing Unicode). Replace \"U+\" with \"0x\" to properly format the code as a Python hexadecimal integer."
      ],
      "metadata": {
        "id": "pIaOu06UECNk"
      }
    },
    {
      "cell_type": "code",
      "source": [
        "print(f\"{'Number':<10}{'Icons: ':>9}\")\n",
        "x =0x1F600\n",
        "for i in range(5):\n",
        "    print(f\"{x:<10}{chr(x + i):^5}\")"
      ],
      "metadata": {
        "id": "gvlUvDYhESdP"
      },
      "execution_count": null,
      "outputs": []
    },
    {
      "cell_type": "markdown",
      "source": [
        "6. (Counting Vowels in a Sentence) Write a script that reads a phrase and calculates the number of vowels used in it. To assess if a character in the string is a vowel, check if it is present in a second string. The second string consists of the vowels “aeiou.” For example, the letter “a” is present in the string “aeiou” and is thus considered a vowel. Count all the vowels in the given string and output this number to the user."
      ],
      "metadata": {
        "id": "e3POe1jHETWp"
      }
    },
    {
      "cell_type": "code",
      "source": [
        "st = input(\"Enter sentence: \")\n",
        "count = 0\n",
        "\n",
        "vowel = 'aeiouAEIOU'\n",
        "for i in st:\n",
        "    if i in vowel:\n",
        "        count += 1\n",
        "print(count)"
      ],
      "metadata": {
        "id": "fDsJEUTsEZ9b"
      },
      "execution_count": null,
      "outputs": []
    },
    {
      "cell_type": "markdown",
      "source": [
        "7. Write a script that enables the user to enter mathematical word problems like “two times three” and “seven minus five”, then use string processing to break apart the string into the numbers and the operation and return the result. So “two times three” would return 6 and “seven minus five” would return 2. To keep things simple, assume the user enters only the words for the numbers 0 through 9 and only the operations 'plus', 'minus', 'times' and 'divided by'."
      ],
      "metadata": {
        "id": "xiNxCJlnEaee"
      }
    },
    {
      "cell_type": "code",
      "source": [
        "dict1 = {'zero':0,'one':1,'two':2,'three':3,'four':4,'five':5,'six':6,'seven':7,'eight':8,'nine':9}\n",
        "\n",
        "st = input('Enter text: ')\n",
        "s = st.split()\n",
        "\n",
        "x = dict1[s[0]] \n",
        "y = dict1[s[2]]\n",
        "cal = s[1]\n",
        "\n",
        "if cal == 'plus':\n",
        "    print(x+y)\n",
        "if cal == 'minus':\n",
        "    print(x-y)\n",
        "if cal == 'time':\n",
        "    print(x*y)\n",
        "if cal == 'divide':\n",
        "    print(x/y)"
      ],
      "metadata": {
        "id": "Q3LbDn7yEa5I"
      },
      "execution_count": null,
      "outputs": []
    },
    {
      "cell_type": "markdown",
      "source": [
        "8. (Regular Expressions: Replacing Substrings) Use regular expressions to change the name in a line from a poem.\n",
        "**‘Jennifer, you are more beautiful than the most beautiful rose’**"
      ],
      "metadata": {
        "id": "LS6O7ATREbo3"
      }
    },
    {
      "cell_type": "code",
      "source": [
        "import re\n",
        "\n",
        "name = input(\"Enter your name: \")\n",
        "\n",
        "text = 'Jennifer, you are more beautiful than the most beautiful rose'\n",
        "result = re.sub('Jennifer', name, text)\n",
        "print(result)"
      ],
      "metadata": {
        "id": "FXJfFs0NEb-9"
      },
      "execution_count": null,
      "outputs": []
    },
    {
      "cell_type": "markdown",
      "source": [
        "9. Using Regex, write a script that reads a line of text, tokenizes the line using space characters as delimiters and outputs only those words beginning with the letter 'b'."
      ],
      "metadata": {
        "id": "uDasuC5rEcRS"
      }
    },
    {
      "cell_type": "code",
      "source": [
        "import re\n",
        "\n",
        "text = input(\"Enter sentence: \")\n",
        "\n",
        "list = re.findall(\"[b]\\w+\", text)\n",
        "\n",
        "print(list)"
      ],
      "metadata": {
        "id": "yMPdMQvyEcyT",
        "colab": {
          "base_uri": "https://localhost:8080/"
        },
        "outputId": "ac1e7018-e220-460d-f97d-b8bbfe83f502"
      },
      "execution_count": 28,
      "outputs": [
        {
          "output_type": "stream",
          "name": "stdout",
          "text": [
            "Enter sentence: ba bon bay tam\n",
            "['ba', 'bon', 'bay']\n"
          ]
        }
      ]
    },
    {
      "cell_type": "markdown",
      "source": [
        "10. Using Regex, write a script that reads a line of text, tokenizes it using space characters as delimiters and outputs only those words ending with the letters 'ed'."
      ],
      "metadata": {
        "id": "CHGaRQQBEe9U"
      }
    },
    {
      "cell_type": "code",
      "source": [
        "import re\n",
        "\n",
        "text = input(\"Enter sentence: \")\n",
        "\n",
        "a = re.findall(r'\\w+ed\\b', text)\n",
        "\n",
        "print(a)"
      ],
      "metadata": {
        "id": "Q5zry8YXEfap",
        "colab": {
          "base_uri": "https://localhost:8080/"
        },
        "outputId": "1e6a189b-6c05-4ac9-d269-93474809a785"
      },
      "execution_count": 57,
      "outputs": [
        {
          "output_type": "stream",
          "name": "stdout",
          "text": [
            "Enter sentence: gedter singed song\n",
            "['singed']\n"
          ]
        }
      ]
    },
    {
      "cell_type": "markdown",
      "source": [
        "11. (Regular Expressions: Count Number of Occurrences of a Letter) Use the findall function to check the number of occurrences of the letter “a” in the sentence.\n",
        ">**‘The mouse that the cat that the dog that the man frightened and chased ran away’**"
      ],
      "metadata": {
        "id": "JnekuZ9GEfzF"
      }
    },
    {
      "cell_type": "code",
      "source": [
        "import re\n",
        "\n",
        "st = 'The mouse that the cat that the dog that the man frightened and chased ran away'\n",
        "\n",
        "a =re.findall(r'[a]', st)\n",
        "\n",
        "print(len(a))"
      ],
      "metadata": {
        "id": "SlrghbG1EgqV",
        "colab": {
          "base_uri": "https://localhost:8080/"
        },
        "outputId": "8b05809f-6e4a-4f23-c9a6-0f4b9abe21c8"
      },
      "execution_count": 43,
      "outputs": [
        {
          "output_type": "stream",
          "name": "stdout",
          "text": [
            "10\n"
          ]
        }
      ]
    },
    {
      "cell_type": "markdown",
      "source": [
        "12. (Regular Expressions: Locating URLs) Use a regular expression to search through a string and to locate all valid URLs. For this exercise, assume that a valid URL has the form http://www.domain_name.extension, where extension must be two or more characters."
      ],
      "metadata": {
        "id": "Ms05J2-6EhD4"
      }
    },
    {
      "cell_type": "code",
      "source": [
        "link = input(\"Enter...: \")\n",
        "for x in re.finditer(r'http://..*?\\.(\\w){2,}', link):\n",
        "    print([x.group()])"
      ],
      "metadata": {
        "id": "ph2rVM3JEiNw",
        "colab": {
          "base_uri": "https://localhost:8080/"
        },
        "outputId": "49f52315-7b43-498d-d7d3-ba61e40cd5d5"
      },
      "execution_count": 59,
      "outputs": [
        {
          "output_type": "stream",
          "name": "stdout",
          "text": [
            "Enter...: http://youtube.com http://facebook.com\n",
            "['http://youtube.com']\n",
            "['http://facebook.com']\n"
          ]
        }
      ]
    },
    {
      "cell_type": "markdown",
      "source": [
        "13. (Using Regular Expressions for Autocorrection) When we type a message on a smartphone, autocorrect changes the text we enter to remove errors. One common error is using two capital letters to start a capitalized word instead of one. Write a script that uses regular expressions to correct this error using the following algorithm:\n",
        "\n",
        ">a) Search for all capitalized letters in the sample text.\n",
        "\n",
        ">b) Check for each capitalized letter if the next letter is also capitalized.\n",
        "\n",
        ">c) If this is the case, change the second letter to lowercase.\n",
        "\n",
        ">d) Repeat this process until you reach the end of the phrase.\n",
        "Test your script with different phrases with different errors."
      ],
      "metadata": {
        "id": "eZjaV_T6Eiwf"
      }
    },
    {
      "cell_type": "code",
      "source": [],
      "metadata": {
        "id": "WT9pgdvqEjih"
      },
      "execution_count": null,
      "outputs": []
    },
    {
      "cell_type": "markdown",
      "source": [
        "14. (Using Regular Expressions for Password Validation) When choosing a password, a user is often confronted with a set of rules they have to comply with in order to set a valid password. Write a script using the necessary regular expressions to check if a password is valid. For a chosen password to be valid, it should contain at least one lowercase and one uppercase letter and at least one number. The use of whites paces in a password is not allowed. Provide the necessary feedback to the user for their chosen password."
      ],
      "metadata": {
        "id": "rDrCwmZ_EtEu"
      }
    },
    {
      "cell_type": "code",
      "source": [
        "import re\n",
        "\n",
        "pw = input('password: ')\n",
        "\n",
        "a = re.findall('[a-z]',pw)\n",
        "A = re.findall('[A-Z]',pw)\n",
        "n = re.findall('[0-9]',pw)\n",
        "s = re.findall('[^a-zA-Z0-9]',pw)\n",
        "if len(s) > 0:\n",
        "  print('Invalid') \n",
        "elif len(a) < 1:\n",
        "  print('Invalid')\n",
        "elif len(A) < 1:\n",
        "  print('Invalid')\n",
        "elif len(n) < 1:\n",
        "  print('Invalid')\n",
        "else:\n",
        "  print('Valid')"
      ],
      "metadata": {
        "id": "irOQ37cgEtvF"
      },
      "execution_count": null,
      "outputs": []
    }
  ]
}