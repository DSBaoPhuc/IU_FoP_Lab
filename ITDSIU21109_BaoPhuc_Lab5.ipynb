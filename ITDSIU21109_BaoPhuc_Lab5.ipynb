{
  "nbformat": 4,
  "nbformat_minor": 0,
  "metadata": {
    "colab": {
      "provenance": []
    },
    "kernelspec": {
      "name": "python3",
      "display_name": "Python 3"
    },
    "language_info": {
      "name": "python"
    }
  },
  "cells": [
    {
      "cell_type": "markdown",
      "source": [
        "Ex.1"
      ],
      "metadata": {
        "id": "abWo6P3lyzgD"
      }
    },
    {
      "cell_type": "code",
      "execution_count": null,
      "metadata": {
        "id": "P0-43tVqyse1"
      },
      "outputs": [],
      "source": [
        "S1 = {1, 2, 4, 8, 16}\n",
        "S2 = {1, 4, 16, 64, 256}  \n",
        "\n",
        "print(sorted(S1 | S2)) \n",
        "\n",
        "print(sorted(S1 & S2))\n",
        "\n",
        "print(sorted(S1 - S2)) \n",
        "\n",
        "print(sorted(S1 ^ S2)) \n",
        "\n",
        "print(S2.issubset(S1))"
      ]
    },
    {
      "cell_type": "markdown",
      "source": [
        "Ex.2"
      ],
      "metadata": {
        "id": "vvW0lA0Tyytr"
      }
    },
    {
      "cell_type": "code",
      "source": [
        "set1 = set()\n",
        "\n",
        "for i in range (3):\n",
        "    i = str(input(\"Enter email address: \"))\n",
        "    st = i.lower()\n",
        "    print(st)\n",
        "    if st not in set1:\n",
        "        set1.add(st)\n",
        "\n",
        "print(set1)"
      ],
      "metadata": {
        "id": "QERLaNKny4Hb"
      },
      "execution_count": null,
      "outputs": []
    },
    {
      "cell_type": "markdown",
      "source": [
        "Ex.3"
      ],
      "metadata": {
        "id": "gGKq0ufYy4gq"
      }
    },
    {
      "cell_type": "code",
      "source": [
        "import requests\n",
        "import re\n",
        "link = 'https://www.gutenberg.org/files/11/11-0.txt'\n",
        "f = requests.get(link)\n",
        "script = f.text.split()\n",
        "print (\"The word 'Alice' occurs: \" + str(script.count(\"Alice\")))\n",
        "word_pattern = \"\\w+\"\n",
        "regex = re.compile(word_pattern)\n",
        "words_found = regex.findall(f.text)\n",
        "if words_found:\n",
        "    longest_word = max(words_found, key=lambda word: len(word))\n",
        "    print(\"longest word:\" ,longest_word)\n",
        "    print(\"characters:\" ,len(longest_word))\n"
      ],
      "metadata": {
        "id": "pGj_IZk9y46O"
      },
      "execution_count": null,
      "outputs": []
    },
    {
      "cell_type": "markdown",
      "source": [
        "Ex.4"
      ],
      "metadata": {
        "id": "D6WAW_Cky5Mz"
      }
    },
    {
      "cell_type": "code",
      "source": [
        "count = {}\n",
        "\n",
        "st = str(input(\"Enter sentence: \"))\n",
        "st = st.split()\n",
        "for i in st:\n",
        "    if i not in count:\n",
        "        count[i] = 1\n",
        "    else:\n",
        "        count[i] += 1\n",
        "print(f\"{'Letter':<5}{'Time appear:': >20}\")\n",
        "keys = count.keys()\n",
        "for i in sorted(keys):\n",
        "    print(f\"{i:<5}{count[i]:>10}\")"
      ],
      "metadata": {
        "id": "4o6AMsV2y5ek"
      },
      "execution_count": null,
      "outputs": []
    },
    {
      "cell_type": "markdown",
      "source": [
        "Ex.5\n"
      ],
      "metadata": {
        "id": "RX8lpky5y54F"
      }
    },
    {
      "cell_type": "code",
      "source": [
        "tlds = {'Canada':'ca','United States':'us','Mexico':'mx'}\n",
        "dict1 = tlds.copy()\n",
        "dict2 = {}\n",
        "st = str(input(\"Enter your option: \"))\n",
        "\n",
        "#a\n",
        "if st == 'a':\n",
        "  print(\"a.\")\n",
        "  st = str(input(\"Enter name of country: \"))\n",
        "  for i in tlds:\n",
        "    if i == st:\n",
        "      print(\"The abbreviation of\",st, \"is:\",tlds[i])\n",
        "\n",
        "#b\n",
        "elif st == 'b':\n",
        "  print(\"\\nb.\")\n",
        "  keys = tlds.keys()\n",
        "  for i in sorted(keys):\n",
        "    print(i, ':' ,tlds[i])\n",
        "\n",
        "#c\n",
        "elif st == 'c':\n",
        "  print(\"\\nc.\")\n",
        "  dict1.update({'Vietnam':'vn'})\n",
        "  print(dict1)\n",
        "  del dict1['Canada']\n",
        "  print(dict1)\n",
        "\n",
        "#d\n",
        "elif st == 'd':\n",
        "  print(\"\\nd.\")\n",
        "  new_tlds = dict(zip(tlds.values(), tlds.keys()))\n",
        "  print(new_tlds)\n",
        "\n",
        "#e\n",
        "elif st == 'e':\n",
        "  print(\"\\ne.\")\n",
        "  new_tlds1 = {key: ''.join([i.upper() for i in tlds[key]]) for key in tlds}\n",
        "  print(new_tlds1)"
      ],
      "metadata": {
        "id": "rMdr1Pcny6I6"
      },
      "execution_count": null,
      "outputs": []
    },
    {
      "cell_type": "markdown",
      "source": [
        "Ex.6"
      ],
      "metadata": {
        "id": "rmK8nfgZy6gf"
      }
    },
    {
      "cell_type": "code",
      "source": [
        "inf_staff = {'Tran Phuc':['2003','Office 1'], 'Ngo Thanh':['2003','Office 2'], 'Nguyen Le':['2003','Office 3']}\n",
        "print(f\"{'Name': <0} {'Date of birth':>25} {'Offices branch':>25}\")\n",
        "for keys, values in inf_staff.items():\n",
        "    print(f'{keys:<0}{values[0]:>12}{values[1]:>29}')"
      ],
      "metadata": {
        "id": "zgePTeiWy6yi",
        "colab": {
          "base_uri": "https://localhost:8080/"
        },
        "outputId": "9937b376-b864-46ef-9933-d45b8827105b"
      },
      "execution_count": 26,
      "outputs": [
        {
          "output_type": "stream",
          "name": "stdout",
          "text": [
            "Name             Date of birth            Offices branch\n",
            "Tran Phuc        2003                     Office 1\n",
            "Ngo Thanh        2003                     Office 2\n",
            "Nguyen Le        2003                     Office 3\n"
          ]
        }
      ]
    },
    {
      "cell_type": "markdown",
      "source": [
        "Ex.7"
      ],
      "metadata": {
        "id": "WwN9WArry7Cv"
      }
    },
    {
      "cell_type": "code",
      "source": [
        "dict1 = {1 : \"One\", 2 : \"Two\", 3 : \"Three\", 4 : \"Four\", 5 : \"Five\", 6 : \"Six\", 7 : \"Seven\", 8 : \"Eight\", 9 : \"Nine\", 10 : \"Ten\", 11 : \"Eleven\", 12 : \"Twelve\", 13 : \"Thirteen\", 14 : \"Fourteen\", 15 : \"Fifteen\", 16 : \"Sixteen\", 17 : \"Seventeen\", 18 : \"Eighteen\", 19 : \"Nineteen\", 20 : \"Twenty\", 30 : \"Thirty\", 40 : \"Fourty\", 50 : \"Fifty\", 60 : \"Sixty\", 70 : \"Seventy\", 80 : \"Eighty\", 90 : \"Ninety\"}\n",
        "list1 =[]\n",
        "list2 = []\n",
        "list3 = []\n",
        "\n",
        "num = float(input(\"Enter a number less than 1000: \"))\n",
        "\n",
        "st = str(num)\n",
        "cut1 = st.split('.')\n",
        "for i in cut1:\n",
        "    i = int(i)\n",
        "    list1.append(i)\n",
        "\n",
        "cut2 = str(num/10).split('.')\n",
        "for i in cut2:\n",
        "    i = int(i)\n",
        "    list2.append(i)\n",
        "\n",
        "cut3 = str(num/100).split('.')\n",
        "for i in cut3:\n",
        "    i = int(i)\n",
        "    list3.append(i)\n",
        "\n",
        "# num <10\n",
        "if num < 10: \n",
        "    print(dict1[list1[0]],'And',int(round((num - list1[0]),2) *100),'/ 100')\n",
        "\n",
        "# 10 <= num <20\n",
        "if 10 <= num < 20: \n",
        "    print(dict1[list1[0]],'And',int(round((num - list1[0]),2) *100),'/ 100')\n",
        "\n",
        "# 20 <= num < 100\n",
        "if 20 <= num < 100:\n",
        "    if num % 10 == 0:\n",
        "        print(dict1[list1[0]],'And',int(num-num),'/ 100')\n",
        "    elif num % 10 == list2[1]:\n",
        "        print(dict1[num // 10 * 10], dict1[num%10],'And',int(round((num - list1[0]),2) *100),'/ 100')\n",
        "    else:\n",
        "        if int(num % 10) == 0:\n",
        "            print(dict1[num // 10 * 10], 'And',int(round(num - (num//10*10) - int(num%10),2)*100),'/ 100' )\n",
        "        else:\n",
        "            print(dict1[num // 10 * 10], dict1[int(num%10)],'And',int(round(num - (num//10*10) - int(num%10),2)*100),'/ 100' )\n",
        "\n",
        "# 100 <= num <1000\n",
        "if 100 <= num < 1000:\n",
        "    #input: 500\n",
        "    if num % 100 == 0:\n",
        "        print(dict1[num/100],'Hundred','And',int(num-num),'/ 100')\n",
        "    #input: 500,2\n",
        "    elif int(num % 100) == 0:   \n",
        "        print(dict1[int(num//100)],'Hundred And', int(round(num - (num//100*100) - int(num%100),2)*100) ,'/ 100')\n",
        "    elif num % 100 != 0 and num % 100 < 20:\n",
        "        #input: 501\n",
        "        if num % 100 == list3[1]: \n",
        "            print(dict1[int(num//100)],'Hundred',dict1[int(num%100)], 'And', int(num-num) ,'/ 100')\n",
        "        #input: 501.2 ; 510.2\n",
        "        else:\n",
        "            print(dict1[int(num//100)],'Hundred',dict1[int(num%100)], 'And', int(round(num - (num//100*100) - int(num%100),2)*100) ,'/ 100')\n",
        "    \n",
        "    elif num % 100 >=20:\n",
        "        #input: 520\n",
        "        if num % 100 % 10 == 0:\n",
        "            print(dict1[int(num//100)],'Hundred',dict1[int(num % 100 // 10 * 10)],'And', int(num-num) ,'/ 100')\n",
        "        #input: 520.2\n",
        "        elif int(num %100 % 10) == 0: #if num is float, the result not use int() is 0.0 \n",
        "            print(dict1[int(num//100)],'Hundred',dict1[int(num % 100 // 10 * 10)],'And', int(round(num - (num//100*100) - int(num%100),2)*100) ,'/ 100')\n",
        "        #input: 521\n",
        "        elif num % 100 == list3[1] :\n",
        "            print(dict1[int(num//100)],'Hundred',dict1[int(num % 100 // 10 * 10)],dict1[int(num%100%10)],'And', int(num-num) ,'/ 100')\n",
        "        #input:521.2\n",
        "        else:\n",
        "            print(dict1[int(num//100)],'Hundred',dict1[int(num % 100 // 10 * 10)],dict1[int(num%100%10)],'And', int(round(num - (num//100*100) - int(num%100),2)*100) ,'/ 100')\n",
        "        \n"
      ],
      "metadata": {
        "id": "Mk5mRbfU0zRZ"
      },
      "execution_count": null,
      "outputs": []
    }
  ]
}