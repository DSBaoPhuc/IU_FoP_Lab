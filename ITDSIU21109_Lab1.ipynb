{
  "nbformat": 4,
  "nbformat_minor": 0,
  "metadata": {
    "colab": {
      "provenance": [],
      "collapsed_sections": []
    },
    "kernelspec": {
      "name": "python3",
      "display_name": "Python 3"
    },
    "language_info": {
      "name": "python"
    }
  },
  "cells": [
    {
      "cell_type": "markdown",
      "source": [
        "1. Create the variables x = 2 and y = 3, then determine what each of the following statements displays:"
      ],
      "metadata": {
        "id": "NPfpRSq0yoVb"
      }
    },
    {
      "cell_type": "code",
      "execution_count": 69,
      "metadata": {
        "id": "gLV1EImbx649",
        "colab": {
          "base_uri": "https://localhost:8080/"
        },
        "outputId": "5104bf78-a3ac-4ae4-ca0d-372fcbf4b7a0"
      },
      "outputs": [
        {
          "output_type": "stream",
          "name": "stdout",
          "text": [
            "x =  2\n",
            "value of x 2 + 2 is 4\n",
            "x =\n",
            "5 = 5\n"
          ]
        }
      ],
      "source": [
        "x = 2\n",
        "y = 3\n",
        "\n",
        "print ('x = ', x)\n",
        "print ('value of x', x , '+' , x , 'is', (x+x))\n",
        "print ('x =')\n",
        "print ((x+y), '=', (y+x))"
      ]
    },
    {
      "cell_type": "markdown",
      "source": [
        "2. The following code should calculate the square of a number:"
      ],
      "metadata": {
        "id": "1GxTyLbI0N8k"
      }
    },
    {
      "cell_type": "code",
      "source": [
        "number = int(input(\"Input a number between 1 and 10: \"))\n",
        "square = number*number\n",
        "print(square)"
      ],
      "metadata": {
        "id": "OAtLRl4p0K44",
        "colab": {
          "base_uri": "https://localhost:8080/"
        },
        "outputId": "86e7a3b9-0f49-4504-866e-463a74c8812c"
      },
      "execution_count": 70,
      "outputs": [
        {
          "output_type": "stream",
          "name": "stdout",
          "text": [
            "Input a number between 1 and 10: 2\n",
            "4\n"
          ]
        }
      ]
    },
    {
      "cell_type": "markdown",
      "source": [
        "3. Test each of the arithmetic operators +, -, *, /, // and ** with -5, 0, 5, and 7.5 as the left \n",
        "operand and 2 as the right operand."
      ],
      "metadata": {
        "id": "Sju1EGTv0aJz"
      }
    },
    {
      "cell_type": "code",
      "source": [
        "list = [-5, 0 , 5 , 7.5]\n",
        "\n",
        "for i in list:\n",
        "    print (i , \" + 2 = \", i+2)\n",
        "    print (i , \" - 2 = \", i-2)\n",
        "    print (i , \" * 2 = \", i*2)\n",
        "    print (i , \" / 2 = \", i/2)\n",
        "    print (i , \" // 2 = \", i//2)\n",
        "    print (i , \" ** 2 = \", i**2)"
      ],
      "metadata": {
        "id": "3pgBSuar0Y8u",
        "colab": {
          "base_uri": "https://localhost:8080/"
        },
        "outputId": "2b1d68e1-90a6-4d9a-d909-2e7df896d5e4"
      },
      "execution_count": 71,
      "outputs": [
        {
          "output_type": "stream",
          "name": "stdout",
          "text": [
            "-5  + 2 =  -3\n",
            "-5  - 2 =  -7\n",
            "-5  * 2 =  -10\n",
            "-5  / 2 =  -2.5\n",
            "-5  // 2 =  -3\n",
            "-5  ** 2 =  25\n",
            "0  + 2 =  2\n",
            "0  - 2 =  -2\n",
            "0  * 2 =  0\n",
            "0  / 2 =  0.0\n",
            "0  // 2 =  0\n",
            "0  ** 2 =  0\n",
            "5  + 2 =  7\n",
            "5  - 2 =  3\n",
            "5  * 2 =  10\n",
            "5  / 2 =  2.5\n",
            "5  // 2 =  2\n",
            "5  ** 2 =  25\n",
            "7.5  + 2 =  9.5\n",
            "7.5  - 2 =  5.5\n",
            "7.5  * 2 =  15.0\n",
            "7.5  / 2 =  3.75\n",
            "7.5  // 2 =  3.0\n",
            "7.5  ** 2 =  56.25\n"
          ]
        }
      ]
    },
    {
      "cell_type": "markdown",
      "source": [
        "4. Typically 6 eggs fit in one box. Write a script to calculate the number of boxes a farmer needs to store 28 eggs. The script will also determine how many eggs are placed in the last uncompleted box, and how many additional eggs are needed to fill this last box.\n"
      ],
      "metadata": {
        "id": "dNm2E4Mz29PY"
      }
    },
    {
      "cell_type": "code",
      "source": [
        "# Let numbers are the numbers of boxes \n",
        "numbers = 28 // 6\n",
        "print (\"Need\",numbers+1,\"boxes for 28 eggs\")\n",
        "# Let n are the eggs placed in the last uncompleted box  \n",
        "n = 28 % 6\n",
        "print (\"Number of eggs placed in the last uncompleted :\",n)\n",
        "# Let a are the eggs needed to fill this last box \n",
        "a = 6 - n\n",
        "print (\"Need\",a,\"eggs to fill this last box\")"
      ],
      "metadata": {
        "id": "eH4PYKRP28p2",
        "colab": {
          "base_uri": "https://localhost:8080/"
        },
        "outputId": "9351ef9e-1f93-4e9e-9e0b-0bceeffbe6cc"
      },
      "execution_count": 73,
      "outputs": [
        {
          "output_type": "stream",
          "name": "stdout",
          "text": [
            "Need 5 boxes for 28 eggs\n",
            "Number of eggs placed in the last uncompleted : 4\n",
            "Need 2 eggs to fill this last box\n"
          ]
        }
      ]
    },
    {
      "cell_type": "markdown",
      "source": [
        "5. Use if statements to determine whether an integer is odd or even using the remainder operator."
      ],
      "metadata": {
        "id": "Z4-hQy-249Do"
      }
    },
    {
      "cell_type": "code",
      "source": [
        "n = int(input())\n",
        "if n < 0 :\n",
        "  print(\"wrong\")\n",
        "elif n % 2 == 0:\n",
        "  print (n,\"is even number\")\n",
        "else :\n",
        "  print (n, \"is odd number\")"
      ],
      "metadata": {
        "id": "eIEYWlRL48c5",
        "colab": {
          "base_uri": "https://localhost:8080/"
        },
        "outputId": "09202f64-9fde-4b34-d942-a848f1ca7298"
      },
      "execution_count": 74,
      "outputs": [
        {
          "output_type": "stream",
          "name": "stdout",
          "text": [
            "5\n",
            "5 is odd number\n"
          ]
        }
      ]
    },
    {
      "cell_type": "markdown",
      "source": [
        "6. Starting with 200 bacteria, the growth in the number of bacteria after n hours is calculated as follows: B = 200 × 2n. Print the number of bacteria after 0, 5, 10, and 15 hours in table format as shown below. Use the tab escape sequence to achieve the two-column output"
      ],
      "metadata": {
        "id": "ukq25yPa5jJX"
      }
    },
    {
      "cell_type": "code",
      "source": [
        "print (\"Hour \\t Number of Bacteria\")\n",
        "for i in range (0,20,5):\n",
        "  B = 200 * (2**i)\n",
        "  print (i, \"\\t\", B)\n",
        "\n",
        "\n"
      ],
      "metadata": {
        "id": "jk65bkdE5i39",
        "colab": {
          "base_uri": "https://localhost:8080/"
        },
        "outputId": "30f3d575-f698-4ff7-a7f2-1eeaf8f51982"
      },
      "execution_count": 75,
      "outputs": [
        {
          "output_type": "stream",
          "name": "stdout",
          "text": [
            "Hour \t Number of Bacteria\n",
            "0 \t 200\n",
            "5 \t 6400\n",
            "10 \t 204800\n",
            "15 \t 6553600\n"
          ]
        }
      ]
    },
    {
      "cell_type": "markdown",
      "source": [
        "7. Reimplement the code in Task 6 to produce the following table with the numbers right aligned in each column"
      ],
      "metadata": {
        "id": "cB3oyyJd9pOe"
      }
    },
    {
      "cell_type": "code",
      "source": [
        "print(f\"{'Hour' : <10}{'Number of Barteria' : ^10}\")\n",
        "B = 0\n",
        "for i in range (0,20,5):\n",
        "    B = 200 * (2**i)\n",
        "    print(f\"{i : <10}{B : >18}\")"
      ],
      "metadata": {
        "id": "ghw46jNk9pBB",
        "colab": {
          "base_uri": "https://localhost:8080/"
        },
        "outputId": "ec722c19-09db-4507-cc7a-137387333b36"
      },
      "execution_count": 76,
      "outputs": [
        {
          "output_type": "stream",
          "name": "stdout",
          "text": [
            "Hour      Number of Barteria\n",
            "0                        200\n",
            "5                       6400\n",
            "10                    204800\n",
            "15                   6553600\n"
          ]
        }
      ]
    },
    {
      "cell_type": "markdown",
      "source": [
        "8. Each of a string’s characters has an integer representation. The set of characters a computer uses together with the characters’ integer representations is called that computer’s character set. You can indicate a character value in a program by enclosing that character in quotes, as in \"A.\" To determine a character’s integer value, call the built\u0002in function ord. Tom and Jim want to play a game but are unable to choose who goes first. They decide that the person with the highest sum of the integer values of the characters of their name gets to play first. Write a script to determine who goes first."
      ],
      "metadata": {
        "id": "G8WwFwbkEW-r"
      }
    },
    {
      "cell_type": "code",
      "source": [
        "name1 = 'Tom'\n",
        "name2 = 'Jim'\n",
        "n = 0\n",
        "b = 0\n",
        "num1 = 0\n",
        "num2 = 0\n",
        "for i in name1:\n",
        "  n = ord(i)\n",
        "  num1 += n\n",
        "for m in name2:\n",
        "  b = ord(m)\n",
        "  num2 += b\n",
        "if num1 > num2:\n",
        "  print(name1, \"First\")\n",
        "else:\n",
        "  print(name2, \"First\")"
      ],
      "metadata": {
        "colab": {
          "base_uri": "https://localhost:8080/"
        },
        "id": "k4jk3zTZEWsn",
        "outputId": "867581da-a976-4667-c2f5-48a16bf49f1d"
      },
      "execution_count": 77,
      "outputs": [
        {
          "output_type": "stream",
          "name": "stdout",
          "text": [
            "Tom First\n"
          ]
        }
      ]
    },
    {
      "cell_type": "markdown",
      "source": [],
      "metadata": {
        "id": "KKX4EME70CiS"
      }
    },
    {
      "cell_type": "markdown",
      "source": [
        "9. Write a script that inputs the grades (in integers) of 3 courses from the user. First display the average grade of the three courses, and then the names and the grades of the courses with the highest and the lowest grades."
      ],
      "metadata": {
        "id": "rkxjNbCfHBHy"
      }
    },
    {
      "cell_type": "code",
      "source": [
        "x = int(input(\"Enter point of course 1:\"))\n",
        "y = int(input(\"Enter point of course 2:\"))\n",
        "z = int(input(\"Enter point of course 3:\"))\n",
        "ave = (x + y + z)/ 3\n",
        "print(\"The average score is:\", ave)\n",
        "if x > y and x > z:\n",
        "  print(\"The highest score is course 1,\",x,\"point\")\n",
        "  if y > z:\n",
        "    print(\"The lowest score is course 3,\",z,\"point\")\n",
        "  else:\n",
        "    print(\"The lowest score is course 2,\",y,\"point\")\n",
        "elif y > x and y > z:\n",
        "  print(\"The highest score is course 2,\",y,\"point\")\n",
        "  if x > z:\n",
        "    print(\"The lowest score is course 3,\",z,\"point\")\n",
        "  else:\n",
        "    print(\"The lowest score is course 1,\",x,\"point\")\n",
        "else:\n",
        "  print(\"The highest score is course 3,\",z,\"point\")\n",
        "  if x > y:\n",
        "    print(\"The lowest score is course 2,\",y,\"point\")\n",
        "  else:\n",
        "    print(\"The lowest score is course 1,\",x,\"point\")\n"
      ],
      "metadata": {
        "colab": {
          "base_uri": "https://localhost:8080/"
        },
        "id": "DVNh3CbOHA5r",
        "outputId": "c02c725c-d8b7-4949-d358-1e83d00402ef"
      },
      "execution_count": 81,
      "outputs": [
        {
          "output_type": "stream",
          "name": "stdout",
          "text": [
            "Enter point of course 1:1\n",
            "Enter point of course 2:2\n",
            "Enter point of course 3:3\n",
            "The average score is: 2.0\n",
            "The highest score is course 3, 3 point\n",
            "The lowest score is course 1, 1 point\n"
          ]
        }
      ]
    },
    {
      "cell_type": "markdown",
      "source": [
        "10. Write a script that inputs a number of seconds from the user. Calculate the number of hours, minutes, and remaining seconds. Print them separated by “ - ”. For example, if the user types 3750 seconds as input, the script should print:"
      ],
      "metadata": {
        "id": "vaGOmCNiIz4r"
      }
    },
    {
      "cell_type": "code",
      "source": [
        "n = int(input())\n",
        "hours = n // 3600\n",
        "minutes = (n % 3600)//60\n",
        "seconds = n % 3600 % 60\n",
        "print (hours ,'-' , minutes, '-' , seconds )"
      ],
      "metadata": {
        "colab": {
          "base_uri": "https://localhost:8080/"
        },
        "id": "YFaMeGfTIzrV",
        "outputId": "8e8910e0-3aa2-44d7-a674-7ab3d52c1d0a"
      },
      "execution_count": 85,
      "outputs": [
        {
          "output_type": "stream",
          "name": "stdout",
          "text": [
            "2900\n",
            "0 - 48 - 20\n"
          ]
        }
      ]
    },
    {
      "cell_type": "markdown",
      "source": [
        "11. Every year, if an employee receives a good job performance review, they get a raise of \n",
        "3% on their wages. In turn, if they receive a suboptimal performance review, their wages \n",
        "are deducted by 3%. Consider an employee starting with an hourly wage of $10. Calculate \n",
        "how much this employee is earning after 5 years of consistent good reviews and after 2 \n",
        "years of bad reviews. Use the following formula to calculate these wages:"
      ],
      "metadata": {
        "id": "gQSVYAYvM2LR"
      }
    },
    {
      "cell_type": "code",
      "source": [
        "o = 10\n",
        "Good=int(input())\n",
        "Bad=int(input())\n",
        "w = 10*((1+0.03)**(Good))+10*((1-0.03)**(Bad))\n",
        "print(\"wages = \", w)"
      ],
      "metadata": {
        "id": "sItUn5OCM2A7",
        "colab": {
          "base_uri": "https://localhost:8080/"
        },
        "outputId": "cf335577-2723-4a81-8a24-152edba33bdb"
      },
      "execution_count": 87,
      "outputs": [
        {
          "output_type": "stream",
          "name": "stdout",
          "text": [
            "5\n",
            "2\n",
            "21.001740743\n"
          ]
        }
      ]
    },
    {
      "cell_type": "markdown",
      "source": [
        "12. While exercising, you can use a heart-rate monitor to see that your heart rate stays within a safe range suggested by your doctors and trainers. According to the American Heart Association (AHA) (http://bit.lyAHATargetHeart- Rates), the formula for calculating your maximum heart rate in beats per minute is 220 minus your age in years. Your target heart rate is 50–85% of your maximum heart rate. Write a script that prompts for and inputs the user’s age and calculates and displays the user’s maximum heart rate and the range of \n",
        "the user’s target heart rate.\n"
      ],
      "metadata": {
        "id": "OJiR40TbO0v9"
      }
    },
    {
      "cell_type": "code",
      "source": [
        "age = int(input())\n",
        "z = 220 - age\n",
        "min = int(0.5 * z)\n",
        "max = int(0.85 * z)\n",
        "print(\"Max heart rate =\", z)\n",
        "print(\"Target = \", min, '-', max)"
      ],
      "metadata": {
        "colab": {
          "base_uri": "https://localhost:8080/"
        },
        "id": "eFnHUzImO0l5",
        "outputId": "036781e7-ae7a-4700-f049-c3e9ee2c17f3"
      },
      "execution_count": 86,
      "outputs": [
        {
          "output_type": "stream",
          "name": "stdout",
          "text": [
            "19\n",
            "Max heart rate = 201\n",
            "Target =  100 - 170\n"
          ]
        }
      ]
    },
    {
      "cell_type": "markdown",
      "source": [
        "13. After a running competition, three runners want to determine who won based on the time they needed to complete the course. Write a script that inputs the time they took through three different floating-point numbers (in seconds) from the user. Display the numbers in increasing order by using if statements only. Prove that your script works by running it on all six possible orderings of the numbers. Does your script work with duplicate numbers?"
      ],
      "metadata": {
        "id": "6qywApd8Qaaz"
      }
    },
    {
      "cell_type": "code",
      "source": [
        "time1 = float(input())\n",
        "time2 = float(input())\n",
        "time3 = float(input())\n",
        "list = []\n",
        "if time1 <= time2 and time2 <= time3:\n",
        "  list = [time1, time2, time3]\n",
        "if time1 <= time3 and time3 <= time2:\n",
        "  list = [time1, time3, time2]\n",
        "if time2 <= time1 and time1 <= time3:\n",
        "  list = [time2, time1, time3]\n",
        "if time2 <= time3 and time3 <= time1:\n",
        "  list = [time2, time3, time1]\n",
        "if time3 <= time1 and time1 <= time2:\n",
        "  list = [time3, time1, time2]\n",
        "if time3 <= time2 and time2 <= time1:\n",
        "  list = [time3, time2, time1]\n",
        "print(list)"
      ],
      "metadata": {
        "colab": {
          "base_uri": "https://localhost:8080/"
        },
        "id": "b9CmTG-yQaNj",
        "outputId": "ade52c1d-e59c-41ea-93e1-5feff53aec0c"
      },
      "execution_count": 104,
      "outputs": [
        {
          "output_type": "stream",
          "name": "stdout",
          "text": [
            "3.5\n",
            "3.5\n",
            "5\n",
            "[3.5, 3.5, 5.0]\n"
          ]
        }
      ]
    },
    {
      "cell_type": "markdown",
      "source": [
        "14. Reimplement code in Task 13 by using if…else statements rather than only if\n",
        "statements"
      ],
      "metadata": {
        "id": "n5iFTmshS-Jd"
      }
    },
    {
      "cell_type": "code",
      "source": [
        "time1 = float(input())\n",
        "time2 = float(input())\n",
        "time3 = float(input())\n",
        "list = []\n",
        "if time1 <= time2:\n",
        "  if time2 <=time3:\n",
        "    list = [time1, time2, time3]\n",
        "  elif time3 <= time2:\n",
        "    list = [time1, time3, time2]\n",
        "  elif time3 <= time1:\n",
        "    ordred = [time3, time1, time2]\n",
        "else: # 2 <= 1\n",
        "  if time1 <= time3:\n",
        "    list = [time2, time1, time3]\n",
        "  elif time3 <=time2:\n",
        "    list = [time3, time2, time1]\n",
        "print(list)"
      ],
      "metadata": {
        "colab": {
          "base_uri": "https://localhost:8080/"
        },
        "id": "IVhbvAH8S-BG",
        "outputId": "1e96e859-dec5-4902-fb39-7f6f07d92067"
      },
      "execution_count": 99,
      "outputs": [
        {
          "output_type": "stream",
          "name": "stdout",
          "text": [
            "5\n",
            "3.5\n",
            "3.5\n",
            "[3.5, 3.5, 5.0]\n"
          ]
        }
      ]
    }
  ]
}