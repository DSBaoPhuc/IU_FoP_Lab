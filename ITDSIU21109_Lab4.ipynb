{
  "nbformat": 4,
  "nbformat_minor": 0,
  "metadata": {
    "colab": {
      "provenance": []
    },
    "kernelspec": {
      "name": "python3",
      "display_name": "Python 3"
    },
    "language_info": {
      "name": "python"
    }
  },
  "cells": [
    {
      "cell_type": "markdown",
      "source": [
        "1. 1. (List Slicing) Create a list called numbers containing \"1, 2, 3, 4, 5, 6, 7, 8, 9, 10, 11, 12, 13, 14, 15, 16, 17, 18, 19, 20,\" then perform slicing operations to obtain the following:\n",
        "a) The third number,\n",
        "b) The first five numbers,\n",
        "c) The first half of the list,\n",
        "d) The last five numbers,\n",
        "e) Every other number,\n",
        "f) The numbers in reverse order, and\n",
        "g) The third last number."
      ],
      "metadata": {
        "id": "f_bPK5hB5WFU"
      }
    },
    {
      "cell_type": "code",
      "execution_count": null,
      "metadata": {
        "id": "D8-bXMyA5RCC"
      },
      "outputs": [],
      "source": [
        "list = []\n",
        "\n",
        "for i in range (1,21):\n",
        "    list.append(i)\n",
        "#a\n",
        "print(\"The third number: \",list[2])\n",
        "#b\n",
        "print(\"The first five numbers: \")\n",
        "for i in list[0:5]:\n",
        "    print(i, end = ' ')\n",
        "#c\n",
        "print(\"\\nThe first half of the list: \")\n",
        "for i in list[0:10]:\n",
        "    print(i, end = ' ')\n",
        "#d\n",
        "print(\"\\nThe last five numbers: \")\n",
        "for i in list[15:20]:\n",
        "    print(i , end = ' ')\n",
        "#e\n",
        "print(\"\\nEvery other number: \")\n",
        "for i in list[10:15]: \n",
        "    print(i, end = ' ',)\n",
        "\n",
        "st = sorted(list, reverse = True)\n",
        "#f\n",
        "print(\"\\nThe numbers in reverse order: \")\n",
        "for k in st:\n",
        "    print (k, end = ' ')\n",
        "#g\n",
        "print(\"\\nThe third last number: \", st[17])\n",
        "\n"
      ]
    },
    {
      "cell_type": "markdown",
      "source": [
        "2.  (Fibonacci) The Fibonacci numbers are a sequence in which each number is the sum of the two preceding ones. Define a function fib that receives three consecutive numbers of the Fibonacci series and returns the three subsequent values. Then, call the function three times starting with the numbers 0, 1,and 1 and restarting the function each time with the resulting numbers of the previous iteration"
      ],
      "metadata": {
        "id": "DSnIB_YC5ogG"
      }
    },
    {
      "cell_type": "code",
      "source": [
        "def fib(num1, num2, num3):\n",
        "    num4=num2+num3\n",
        "    num5=num3+num4\n",
        "    num6=num5+num4\n",
        "    return num4,num5,num6\n",
        "\n",
        "num1 = int(input(\"Enter the first number: \"))\n",
        "num2 = int(input(\"Enter the second number: \"))\n",
        "num3 = int(input(\"Enter the third number: \"))\n",
        "num4,num5,num6= fib(num1,num2,num3)\n",
        "num4,num5,num6 = fib(num4,num5,num6)\n",
        "print(fib(num4,num5,num6))"
      ],
      "metadata": {
        "id": "STMplzrY5uHX"
      },
      "execution_count": null,
      "outputs": []
    },
    {
      "cell_type": "markdown",
      "source": [
        "3. Duplicate Elimination) In organizations, a list of email addresses is often compiled for marketing purposes. However, duplicate email addresses need to be removed from this list. Write a function that receives a list and returns a list containing only unique values. Test your function with a list of numbers alist = [23,34,67,87,22,43,34,87,23,33,22,34]."
      ],
      "metadata": {
        "id": "UYj2Q9QH5uwk"
      }
    },
    {
      "cell_type": "code",
      "source": [
        "#alist = [23,34,67,87,22,43,34,87,23,33,22,34]\n",
        "alist = []\n",
        "n = int(input(\"Enter length of list: \"))\n",
        "for i in range (n):\n",
        "  i = int(input(\"Enter number: \"))\n",
        "  alist.append(i)\n",
        "s = set(alist)\n",
        "print(s, end = ' ')"
      ],
      "metadata": {
        "id": "WUoSvj3f5zqq"
      },
      "execution_count": null,
      "outputs": []
    },
    {
      "cell_type": "markdown",
      "source": [
        "4. "
      ],
      "metadata": {
        "id": "-CZyel279oKz"
      }
    },
    {
      "cell_type": "code",
      "source": [
        "alist = []\n",
        "n = int(input(\"Enter length of list: \"))\n",
        "for i in range(n):\n",
        "    i = int(input(\"Enter number: \"))\n",
        "    alist.append(i)\n",
        "for i in range(0,n):\n",
        "    for j in range (i+1, n):\n",
        "        if (alist[i] > alist[j]):\n",
        "            temp = alist[i]\n",
        "            alist[i] = alist[j]\n",
        "            alist[j] = temp\n",
        "print(alist)"
      ],
      "metadata": {
        "id": "mxuQNuzI9rHR"
      },
      "execution_count": null,
      "outputs": []
    },
    {
      "cell_type": "markdown",
      "source": [
        "5. (Palindrome Tester) A string that’s spelled identically backward and forward, like 'radar', is a palindrome. Write a function is_palindrome that takes a string and returns True if it’s a palindrome and False otherwise. Use a stack to help determine whether a string is a palindrome. Your function should ignore case sensitivity (that is, 'a' and 'A' are the same), spaces and punctuation. Test with test_str1 = \"rA;da. .R\" and test_str2 = \"rader\". Hint: (1) convert the string into a list of lowercase characters; (2) remove all the spaces and punctions; (3) the stack is used to create a reverse list of characters."
      ],
      "metadata": {
        "id": "Pr88NsTMQ2wZ"
      }
    },
    {
      "cell_type": "code",
      "source": [
        "def Palindrone(j):\n",
        "    list=[]\n",
        "    for h in j:\n",
        "        list.append(h)\n",
        "    f=[]\n",
        "    for j in range(len(list)-1,-1,-1):\n",
        "        f.append(list[j])\n",
        "    check=True\n",
        "    if f==list:\n",
        "        check=True\n",
        "    else:\n",
        "        check=False\n",
        "    return check\n",
        "n=str(input())\n",
        "k=n.lower()\n",
        "j = k.strip(',./?!;:')\n",
        "print(j)\n",
        "print(Palindrone(j))\n",
        "\n",
        "#input : ./RaDar;?\n",
        "#output: True"
      ],
      "metadata": {
        "id": "Cw-PQVdWQ9Bc"
      },
      "execution_count": null,
      "outputs": []
    },
    {
      "cell_type": "markdown",
      "source": [
        "8. (List Sorting) Write a function is_sorted that compares the results from your insertion_sort function to the result from the built-in sorted function. If both functions return the same sorted list, the is_sorted function returns True. Test your function with several sorted and unsorted lists.\n"
      ],
      "metadata": {
        "id": "35JH-D15eSQK"
      }
    },
    {
      "cell_type": "code",
      "source": [],
      "metadata": {
        "id": "-0EyQHAreV9s"
      },
      "execution_count": null,
      "outputs": []
    },
    {
      "cell_type": "markdown",
      "source": [
        "9.(Sorting User IDs) For each new user, a system generates a user ID consisting of a randomly chosen letter and two random numbers. Write a script that randomly generates a list containing 8000 userIDs using random letters from the range \"a\" through \"f\" and numbers from the range 1 to 4. Subsequently, remove all duplicate entries from the list and sort this list in descending order."
      ],
      "metadata": {
        "id": "H-OgWXincfEO"
      }
    },
    {
      "cell_type": "code",
      "source": [
        "import random\n",
        "\n",
        "list1= ['1','2','3','4']\n",
        "list2= ['a','b','c','d','e','f']\n",
        "ID=[]\n",
        "\n",
        "for ID_user in range(8000):\n",
        "    letter=random.choice(list2)\n",
        "    number1=random.choice(list1)\n",
        "    number2=random.choice(list1)\n",
        "    ID_user= letter+number1+number2\n",
        "    ID.append(ID_user)\n",
        "print(\"ID before remove: \\n\",ID)\n",
        "ID= list(set(ID))\n",
        "ID.sort(reverse=True)\n",
        "print(\"ID after remove: \",ID)"
      ],
      "metadata": {
        "id": "dEwTmd2ecjtR"
      },
      "execution_count": null,
      "outputs": []
    },
    {
      "cell_type": "markdown",
      "source": [
        "10. (Summing the Triples of the Even Integers from 2 through 10) Starting with a list containing 1 \n",
        "through 10, use filter, map and sum to calculate the total of the triples of the even integers \n",
        "from 2 through 10. Reimplement your code with list comprehensions rather than filter and map."
      ],
      "metadata": {
        "id": "3mRio96dWbNi"
      }
    },
    {
      "cell_type": "code",
      "source": [
        "string = list(range(1,11))\n",
        "even_number = list(filter(lambda x: x%2==0, string ))\n",
        "print(\"Even number list: \",even_number)\n",
        "triples= list(map(lambda x : x*3, even_number))\n",
        "print(\"List even number after triples: \", triples)\n",
        "sum = sum(triples)\n",
        "print(\"Result: \",sum)"
      ],
      "metadata": {
        "id": "xVr6MOHcW17A"
      },
      "execution_count": null,
      "outputs": []
    },
    {
      "cell_type": "markdown",
      "source": [
        "11. (Finding the People with a Specified Last Name) Create a list of tuples containing first and last names. Use filter to locate the tuples containing the last name \"Nguyen\". Ensure that several tuples in your list have that last name."
      ],
      "metadata": {
        "id": "mJZZvl7zWTq3"
      }
    },
    {
      "cell_type": "code",
      "source": [
        "list =[(\"Phuc\",\"Tran\"),(\"Sang\",\"Nguyen\"),(\"Thanh\",\"Ngo\"),(\"Nam\",\"Nguyen\")]\n",
        "\n",
        "for i in list:\n",
        "    if i[1]==\"Nguyen\":\n",
        "        print(i[0]+\" \"+i[1])\n"
      ],
      "metadata": {
        "id": "TGERML-jWXTu"
      },
      "execution_count": null,
      "outputs": []
    }
  ]
}