{
  "nbformat": 4,
  "nbformat_minor": 0,
  "metadata": {
    "colab": {
      "provenance": []
    },
    "kernelspec": {
      "name": "python3",
      "display_name": "Python 3"
    },
    "language_info": {
      "name": "python"
    }
  },
  "cells": [
    {
      "cell_type": "markdown",
      "source": [
        "1. (Fill in the Missing Code) The slope of a line is the number that describes its di- rection and steepness. It is calculated by dividing the change in height by the change in length. Replace the ***s in the calc_slope function so that it returns the slope of a line drawn in a cartesian coordinate system. The function should receive four integers repre\u0002senting the x and y coordinates of the beginning and end of the line. For example, if you call the function for a line starting at (1,1) and ending at (4,5), the function should return"
      ],
      "metadata": {
        "id": "RG3QTX62tfZl"
      }
    },
    {
      "cell_type": "code",
      "source": [
        "def calc_slope(delta_x, delta_y, slope):\n",
        "    delta_x = x[1] - x[0]\n",
        "    delta_y = y[1] - y[0]\n",
        "    slope = delta_y/delta_x\n",
        "    return slope\n",
        "x=[]\n",
        "y=[]\n",
        "delta_x = 0\n",
        "delta_y = 0\n",
        "slope = 0\n",
        "for i in range (2):\n",
        "    i = int(input(\"Enter x1 and x2: \"))\n",
        "    x.append(i)\n",
        "for j in range (2):\n",
        "    j = int(input(\"Enter y1 and y2: \"))\n",
        "    y.append(j)\n",
        "if x[1] - x[0] == 0:\n",
        "    print(\"False\")\n",
        "else :\n",
        "    print(calc_slope(delta_x, delta_y, slope))"
      ],
      "metadata": {
        "id": "ZH2TmFLQtfIQ"
      },
      "execution_count": null,
      "outputs": []
    },
    {
      "cell_type": "markdown",
      "source": [
        "2. Write a new average function to receive one required argument and the arbitrary list argument *args, and update its calculation accordingly. Test your function by having it calculate the average of the grades of a student (e.g., 56, 74, 87, 91). When you call average with no arguments, Python should issue a TypeError indicating \"average() missing 1 required positional argument.\"\n",
        "          def average(score1, *args):"
      ],
      "metadata": {
        "id": "LF5k5D_Quq83"
      }
    },
    {
      "cell_type": "code",
      "source": [
        "def average(score,args):\n",
        "  list = args.split()\n",
        "  list.append(score)\n",
        "  sum = 0\n",
        "  for i in list:\n",
        "    sum += int(i)\n",
        "  ave = sum/len(list)\n",
        "  return ave \n",
        "score = input(\"Enter a number: \")\n",
        "args = input(\"Enter a list :\")\n",
        "print(average(score,args))"
      ],
      "metadata": {
        "id": "mALeB_Xzurbm"
      },
      "execution_count": null,
      "outputs": []
    },
    {
      "cell_type": "markdown",
      "source": [
        "3. Write a new average2 function to receive the arbitrary list argument *args, and update its calculation accordingly. Test your function by having it calculate the average of the grades of a student (e.g., 56, 74, 87, 91). When you call average2 with no arguments, average2 prints out the message ”average() missing 1 required positional argument.\"\n",
        "        def average(*args):"
      ],
      "metadata": {
        "id": "mDDKBE35v5Kb"
      }
    },
    {
      "cell_type": "code",
      "source": [
        "def average(args):\n",
        "  list = args.split()\n",
        "  sum = 0\n",
        "  for i in list:\n",
        "    sum += int(i)\n",
        "  ave = sum/len(list)\n",
        "  return ave \n",
        "\n",
        "args = input(\"Enter a list: \")\n",
        "print(average(args))"
      ],
      "metadata": {
        "id": "gFcceml-v5sa",
        "colab": {
          "base_uri": "https://localhost:8080/"
        },
        "outputId": "5343fb94-ea94-419c-eec4-19b6b0f725a3"
      },
      "execution_count": null,
      "outputs": [
        {
          "output_type": "stream",
          "name": "stdout",
          "text": [
            "Enter a list of grade separated by space: 5 1\n",
            "3.0\n"
          ]
        }
      ]
    },
    {
      "cell_type": "markdown",
      "source": [
        "4. (Date and Time) Python’s datetime module contains a datetime type with a method today that returns the current date and time as a datetime object. Write a parameterless date_and_time function containing the following statement, then call that function to display the current date and time:\n",
        "        print(datetime.datetime.today())\n",
        "On our system, the date and time display in the following format:\n",
        "        2016-06-08 13:04:19.214180\n"
      ],
      "metadata": {
        "id": "Q-KYZOeVtefa"
      }
    },
    {
      "cell_type": "code",
      "execution_count": null,
      "metadata": {
        "id": "gc9vfKY7oe9Z"
      },
      "outputs": [],
      "source": [
        "import datetime\n",
        "print(datetime.datetime.today())"
      ]
    },
    {
      "cell_type": "markdown",
      "source": [
        "5. (Degrees to Radians) Implement a radians function that returns the radian equivalent of a degree. Use the following formula:\n",
        "        rad = degrees * pi / 180\n",
        "Use this function to print a chart showing the radian equivalent of all degrees ranging from 1° to 180°. Use two digits of precision for the results. Print the outputs in a neat tabular format.\n"
      ],
      "metadata": {
        "id": "5FrBDUyx21k1"
      }
    },
    {
      "cell_type": "code",
      "source": [
        "from math import pi\n",
        "def radians():\n",
        "    rad = 0\n",
        "    rad = n * pi/180\n",
        "    return rad\n",
        "\n",
        "n = int(input(\"Enter degree: \"))\n",
        "print(radians())\n",
        "\n",
        "print(f\"{'Degrees' : <10}{'Rad' : >10}\")\n",
        "for i in range (1,181,1):\n",
        "    rad = i * pi/180\n",
        "    print(f\"{i : <10}{rad : >10}\")"
      ],
      "metadata": {
        "id": "FwbhrEAn21_9"
      },
      "execution_count": null,
      "outputs": []
    },
    {
      "cell_type": "markdown",
      "source": [
        "6. (Computer-Assisted Instruction) Computer-assisted instruction (CAI) refers to the use of computers in education. Write a script to help an elementary school student learn multiplication. Create a function that randomly generates and returns a tuple of two pos- itive one-digit integers. Use that function’s result in your script to prompt the user with a question, such as\n",
        "        How much is 6 times 7?\n",
        "For a correct answer, display the message \"Very good!\" and ask another multiplication question. For an incorrect answer, display the message \"No. Please try again.\" and let the student try the same question repeatedly until the student finally gets it right"
      ],
      "metadata": {
        "id": "vh9tdGrP3BIA"
      }
    },
    {
      "cell_type": "code",
      "source": [
        "import random\n",
        "\n",
        "while True:\n",
        "    x = random.randrange(0,10)\n",
        "    y = random.randrange(0,10)\n",
        "    answer = int(input(\"How much is \"+ str(x) + \" times \"+ str(y) + \"?\\n\"))\n",
        "    if answer == (x*y):\n",
        "        print(\"Very Good! \")\n",
        "    else:\n",
        "        while answer != x*y:\n",
        "            print(\"No. Please try again.\")\n",
        "            answer = int(input(\"How much is \"+ str(x) + \" times \"+ str(y) + \"?\\n\"))\n",
        "        print(\"Very Good! \")"
      ],
      "metadata": {
        "id": "jSH0Z8zp3Bf5"
      },
      "execution_count": null,
      "outputs": []
    },
    {
      "cell_type": "markdown",
      "source": [],
      "metadata": {
        "id": "hKsR1Nfgtcc_"
      }
    },
    {
      "cell_type": "markdown",
      "source": [
        "7. (Computer-Assisted Instruction: Reducing Student Fatigue) Varying the computer’s responses can help hold the student’s attention. Modify the previous exercise so that various comments are displayed for each answer. Possible responses to a correct answer should include 'Very good!', 'Nice work!' and 'Keep up the good work!' Possible re- sponses to an incorrect answer should include 'No. Please try again.', 'Wrong. Try once more.' and 'No. Keep trying.' Choose a number from 1 to 3, then use that value to select one of the three appropriate responses to each correct or incorrect answer.\n"
      ],
      "metadata": {
        "id": "JWmSVvQV3J1w"
      }
    },
    {
      "cell_type": "code",
      "source": [
        "import random\n",
        "\n",
        "list1 = [\"Very good\",\"Nice work\",\"Keep up the good work\"]\n",
        "list2 = [\"No. Please try again\",\"Wrong. Try once more\",\"No. Keep trying\"]\n",
        "while True:\n",
        "    x = random.randrange(0,10)\n",
        "    y = random.randrange(0,10)\n",
        "    answer = int(input(\"How much is \"+ str(x) + \" times \"+ str(y) + \"?\\n\"))\n",
        "    if answer == (x*y):\n",
        "        print(random.choice(list1))\n",
        "    else:\n",
        "        while answer != x*y:\n",
        "            print(random.choice(list2))\n",
        "            answer = int(input(\"How much is \"+ str(x) + \" times \"+ str(y) + \"?\\n\"))\n",
        "        print(random.choice(list1))"
      ],
      "metadata": {
        "id": "mrgJHoCw3JD4"
      },
      "execution_count": null,
      "outputs": []
    },
    {
      "cell_type": "markdown",
      "source": [
        "8.(Play the Multiplication Game) Write a script that lets the user play a multiplication game. To begin, the game randomly selects two numbers between 1 and 10. It displays the selected numbers and asks the player for the product of both numbers. If the player answers correctly, they are asked if they want to play again. This cycle is continued until the player makes a mistake or stops the game"
      ],
      "metadata": {
        "id": "p7w_qI6w3RF8"
      }
    },
    {
      "cell_type": "code",
      "source": [
        "import random\n",
        "while True:\n",
        "    x1 = random.randint(1,10)\n",
        "    x2 = random.randint(1,10)\n",
        "    print(\"The first number is: \", x1)\n",
        "    print(\"The first number is: \", x2)\n",
        "    ans = int(input(\"Enter your answer: \"))\n",
        "    if ans == x1*x2:\n",
        "        print(\"Correct\")\n",
        "        print(\"Continue or Not (Yes or No)\")\n",
        "        x = str(input())\n",
        "        if x == 'No':\n",
        "            break\n",
        "    else:\n",
        "        print('No. You are wrong')\n",
        "        break"
      ],
      "metadata": {
        "id": "2uDqndp13RYp"
      },
      "execution_count": null,
      "outputs": []
    },
    {
      "cell_type": "markdown",
      "source": [
        "9.(Play-the-Multiplication-Game Modification) Modify the previous exercise to count the number of correct multiplications. At the end of the game the total number of correct exercises is displayed on the screen."
      ],
      "metadata": {
        "id": "eW7Ch_r63XLT"
      }
    },
    {
      "cell_type": "code",
      "source": [
        "import random\n",
        "sum = 0\n",
        "while True:\n",
        "    x1 = random.randint(1,10)\n",
        "    x2 = random.randint(1,10)\n",
        "    print(\"The first number is: \", x1)\n",
        "    print(\"The second number is: \", x2)\n",
        "    ans = int(input(\"Enter your answer: \"))\n",
        "    if ans == x1*x2:\n",
        "        sum += 1\n",
        "        print(\"Correct\")\n",
        "        print(\"Continue or Not (Yes or No)\")\n",
        "        x = str(input())\n",
        "        if x == 'No':\n",
        "            break\n",
        "    else:\n",
        "        print('No. You are wrong')\n",
        "        break\n",
        "print(\"Total number of correct exercise: \", sum)"
      ],
      "metadata": {
        "id": "e7e4zl9u3Xbt"
      },
      "execution_count": null,
      "outputs": []
    },
    {
      "cell_type": "markdown",
      "source": [
        "10. . Extra challenge: You can extend Task 9 further by adding a computer opponent to the game. Write a function that automatically calculates the product of two randomly selected numbers. Add some intelligence to the opponent by implementing smart rules in the function that allow the opponent to make an occasional mistake. The human player and his opponent take turns to calculate a product. The game ends when the player indicates that they do not want to play anymore. The winner of the game is the player with the highest number of correct calculations."
      ],
      "metadata": {
        "id": "yPN4KWjC3bHn"
      }
    },
    {
      "cell_type": "code",
      "source": [
        "import random\n",
        "peo = 0\n",
        "bot = 0\n",
        "while True:\n",
        "    x1 = random.randint(1,10)\n",
        "    x2 = random.randint(1,10)\n",
        "    robot = random.randint(0,5)\n",
        "    print(\"The first number is: \", x1)\n",
        "    print(\"The second number is: \", x2)\n",
        "    ans = int(input(\"Enter your answer: \"))\n",
        "    if ans == x1*x2:\n",
        "        print(\"You are Correct\")\n",
        "        peo += 1\n",
        "        if robot == 1:\n",
        "            print(\"Robot answer: \", robot)\n",
        "            print(\"Robot wrong!\")\n",
        "        else:\n",
        "            print(x1*x2)\n",
        "            bot+=1\n",
        "            print(\"Robot correct\")\n",
        "        print(\"Continue or Not (Yes or No)\")\n",
        "        x = str(input())\n",
        "        if x == 'No':\n",
        "            break\n",
        "    else:\n",
        "        print('No. You are wrong')\n",
        "        if robot == 1:\n",
        "            print(\"Robot answer: \", robot)\n",
        "            print(\"Robot wrong!\")\n",
        "        else:\n",
        "            print(x1*x2)\n",
        "            bot+=1\n",
        "            print(\"Robot correct\")\n",
        "        break\n",
        "if bot > peo:\n",
        "    print(\"Bot win\")\n",
        "elif bot == peo:\n",
        "    print(\"Draw\")\n",
        "else :\n",
        "    print(\"Human win\")\n",
        "\n"
      ],
      "metadata": {
        "id": "4TT4cuR03blw"
      },
      "execution_count": null,
      "outputs": []
    },
    {
      "cell_type": "markdown",
      "source": [
        "11. (Computer-Assisted Instruction: Difficulty Levels) Modify the previous exercise to allow the user to enter a difficulty level. At a difficulty level of 1, the program should use only single-digit numbers in the problems and at a difficulty level of 2, numbers as large as two digits.\n"
      ],
      "metadata": {
        "id": "GXNjza273ikz"
      }
    },
    {
      "cell_type": "code",
      "source": [],
      "metadata": {
        "id": "Ga2_6mWf3i5R"
      },
      "execution_count": null,
      "outputs": []
    },
    {
      "cell_type": "markdown",
      "source": [
        "12. (Computer-Assisted Instruction: Varying the Types of Problems) Modify the previous exercise to allow the user to pick a type of arithmetic problem to study—1 means addition problems only, 2 means subtraction problems only, 3 means multiplication problems only, 4 means division problems only (avoid dividing by 0) and 5 means a random mixture of all these types"
      ],
      "metadata": {
        "id": "pqJVBEaB3npv"
      }
    },
    {
      "cell_type": "code",
      "source": [],
      "metadata": {
        "id": "MUjGQ8ML3n2i"
      },
      "execution_count": null,
      "outputs": []
    },
    {
      "cell_type": "markdown",
      "source": [
        "#13. "
      ],
      "metadata": {
        "id": "3f123Ori3veb"
      }
    },
    {
      "cell_type": "code",
      "source": [],
      "metadata": {
        "id": "WnxuDHmf3xqU"
      },
      "execution_count": null,
      "outputs": []
    }
  ]
}